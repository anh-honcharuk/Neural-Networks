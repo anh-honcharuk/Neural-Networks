{
  "nbformat": 4,
  "nbformat_minor": 0,
  "metadata": {
    "colab": {
      "name": "sem_1.ipynb",
      "provenance": [],
      "collapsed_sections": [],
      "authorship_tag": "ABX9TyMs8ru3rIQfi2m3Zws/wXvK",
      "include_colab_link": true
    },
    "kernelspec": {
      "name": "python3",
      "display_name": "Python 3"
    }
  },
  "cells": [
    {
      "cell_type": "markdown",
      "metadata": {
        "id": "view-in-github",
        "colab_type": "text"
      },
      "source": [
        "<a href=\"https://colab.research.google.com/github/anh-honcharuk/Neural-Networks/blob/main/sem_1.ipynb\" target=\"_parent\"><img src=\"https://colab.research.google.com/assets/colab-badge.svg\" alt=\"Open In Colab\"/></a>"
      ]
    },
    {
      "cell_type": "code",
      "metadata": {
        "id": "HUYabJ0mlNTU"
      },
      "source": [
        "import pandas as pd\n",
        "\n",
        "from google.colab import files\n",
        "files.upload()"
      ],
      "execution_count": null,
      "outputs": []
    },
    {
      "cell_type": "code",
      "metadata": {
        "id": "vju4paoKdQqk"
      },
      "source": [
        "df = pd.read_csv('adult.data.csv - adult.data.csv.csv')"
      ],
      "execution_count": null,
      "outputs": []
    },
    {
      "cell_type": "markdown",
      "metadata": {
        "id": "AV4CP6MVdS6H"
      },
      "source": [
        "1. Скільки чоловіків і жінок (ознака sex) представлено в цьому наборі даних?"
      ]
    },
    {
      "cell_type": "code",
      "metadata": {
        "id": "94lp1oP1dQnK",
        "colab": {
          "base_uri": "https://localhost:8080/",
          "height": 34
        },
        "outputId": "e1e0c39a-f66c-4e5d-8bca-a445cadd0cbc"
      },
      "source": [
        "fem = df[df['sex'] == 'Female']['sex'].count()\n",
        "male = df[df['sex'] == 'Male']['sex'].count()\n",
        "print('У наборі даних представлено', male,'чоловіків і', fem, 'жінок')"
      ],
      "execution_count": null,
      "outputs": [
        {
          "output_type": "stream",
          "text": [
            "У наборі даних представлено 21790 чоловіків і 10771 жінок\n"
          ],
          "name": "stdout"
        }
      ]
    },
    {
      "cell_type": "markdown",
      "metadata": {
        "id": "wgbvQjUWdiO9"
      },
      "source": [
        "2. Який середній вік (ознака age) жінок?"
      ]
    },
    {
      "cell_type": "code",
      "metadata": {
        "id": "2W8xMs4JdQkJ",
        "colab": {
          "base_uri": "https://localhost:8080/",
          "height": 34
        },
        "outputId": "e5803dbf-d3f1-4517-8080-eb01479e7f03"
      },
      "source": [
        "df[df['sex'] == 'Female']['age'].mean()"
      ],
      "execution_count": null,
      "outputs": [
        {
          "output_type": "execute_result",
          "data": {
            "text/plain": [
              "36.85823043357163"
            ]
          },
          "metadata": {
            "tags": []
          },
          "execution_count": 5
        }
      ]
    },
    {
      "cell_type": "markdown",
      "metadata": {
        "id": "l1fOIPc1dnwW"
      },
      "source": [
        "3. Яка частка громадян Німеччини (ознака native-country)?"
      ]
    },
    {
      "cell_type": "code",
      "metadata": {
        "id": "SQVmkicjdQgW",
        "colab": {
          "base_uri": "https://localhost:8080/",
          "height": 52
        },
        "outputId": "ef95e4e7-993a-4f0b-da52-cdcfb6a41625"
      },
      "source": [
        "totalGerm = df[df['native-country'] == 'Germany']['native-country'].count()\n",
        "total = df['native-country'].count()\n",
        "print('Всього громадян Німеччини:', totalGerm)\n",
        "print('Це становить', totalGerm / total, 'кількості, представлених у наборі людей')"
      ],
      "execution_count": null,
      "outputs": [
        {
          "output_type": "stream",
          "text": [
            "Всього громадян Німеччини: 137\n",
            "Це становить 0.004207487485028101 кількості, представлених у наборі людей\n"
          ],
          "name": "stdout"
        }
      ]
    },
    {
      "cell_type": "markdown",
      "metadata": {
        "id": "T8TqPcP_dtD1"
      },
      "source": [
        "4. Які середні значення і середньоквадратичні відхилення віку тих, хто отримує\n",
        "більше 50K в рік (ознака salary) і тих, хто отримує менше 50K в рік?"
      ]
    },
    {
      "cell_type": "code",
      "metadata": {
        "id": "dnDGCuR7dQcl",
        "colab": {
          "base_uri": "https://localhost:8080/",
          "height": 141
        },
        "outputId": "de3b8e63-f2a0-40c1-cb3d-efe0b1029089"
      },
      "source": [
        "poor_mean = df[df['salary'] == '<=50K']['age'].mean()\n",
        "poor_std = df[df['salary'] == '<=50K']['age'].std()\n",
        "\n",
        "rich_mean = df[df['salary'] == '>50K']['age'].mean()\n",
        "rich_std = df[df['salary'] == '>50K']['age'].std()\n",
        "\n",
        "print('Середні значення віку')\n",
        "print('тих, хто отримує більше 50K в рік:', rich_mean, '\\nтих, хто отримує менше 50K в рік:', poor_mean)\n",
        "print('\\nСередньоквадратичні відхилення віку')\n",
        "print('тих, хто отримує більше 50K в рік:', rich_std, '\\nтих, хто отримує менше 50K в рік:', poor_std)"
      ],
      "execution_count": null,
      "outputs": [
        {
          "output_type": "stream",
          "text": [
            "Середні значення віку\n",
            "тих, хто отримує більше 50K в рік: 44.24984058155847 \n",
            "тих, хто отримує менше 50K в рік: 36.78373786407767\n",
            "\n",
            "Середньоквадратичні відхилення віку\n",
            "тих, хто отримує більше 50K в рік: 10.51902771985177 \n",
            "тих, хто отримує менше 50K в рік: 14.020088490824813\n"
          ],
          "name": "stdout"
        }
      ]
    },
    {
      "cell_type": "markdown",
      "metadata": {
        "id": "62cv7PZ2dVxU"
      },
      "source": [
        "5. Чи правда, що люди, які отримують більше 50k, мають як мінімум вищу\n",
        "освіту? (Ознака education - Bachelors, Prof-school, Assoc-acdm, Assoc-voc, Masters\n",
        "або Doctorate)"
      ]
    },
    {
      "cell_type": "code",
      "metadata": {
        "id": "GQoIi8fDdQZO",
        "colab": {
          "base_uri": "https://localhost:8080/",
          "height": 34
        },
        "outputId": "a45a10e1-b208-4095-8ade-95ddede6c78c"
      },
      "source": [
        "data = df[(df['education'] != 'Bachelors') &\n",
        "    (df['education'] != 'Prof-school') &\n",
        "    (df['education'] != 'Assoc-acdm') &\n",
        "    (df['education'] != 'Assoc-voc') &\n",
        "    (df['education'] != 'Masters') &\n",
        "    (df['education'] != 'Doctorate') & \n",
        "    (df['salary'] == '>50K')]\n",
        "if data.size == 0:\n",
        "  print('Так, правда')\n",
        "else:\n",
        "  print('Ні, є люди що отримують більше 50k і не мають як мінімум вищої освіти')"
      ],
      "execution_count": null,
      "outputs": [
        {
          "output_type": "stream",
          "text": [
            "Ні, є люди що отримують більше 50k і не мають як мінімум вищої освіти\n"
          ],
          "name": "stdout"
        }
      ]
    },
    {
      "cell_type": "markdown",
      "metadata": {
        "id": "AUSvTlg9d2Ck"
      },
      "source": [
        "6. Виведіть статистику віку для кожної раси (ознака race) і кожної статі.\n",
        "Використовуйте groupby і describe. Знайдіть таким чином максимальний вік\n",
        "чоловіків раси Amer-Indian-Eskimo."
      ]
    },
    {
      "cell_type": "code",
      "metadata": {
        "id": "OJw-uDLpdQVk",
        "colab": {
          "base_uri": "https://localhost:8080/",
          "height": 377
        },
        "outputId": "ca3ac3ab-8219-4d81-de1f-71664aa3c56a"
      },
      "source": [
        "df.groupby(['race', 'sex'])['age'].describe()"
      ],
      "execution_count": null,
      "outputs": [
        {
          "output_type": "execute_result",
          "data": {
            "text/html": [
              "<div>\n",
              "<style scoped>\n",
              "    .dataframe tbody tr th:only-of-type {\n",
              "        vertical-align: middle;\n",
              "    }\n",
              "\n",
              "    .dataframe tbody tr th {\n",
              "        vertical-align: top;\n",
              "    }\n",
              "\n",
              "    .dataframe thead th {\n",
              "        text-align: right;\n",
              "    }\n",
              "</style>\n",
              "<table border=\"1\" class=\"dataframe\">\n",
              "  <thead>\n",
              "    <tr style=\"text-align: right;\">\n",
              "      <th></th>\n",
              "      <th></th>\n",
              "      <th>count</th>\n",
              "      <th>mean</th>\n",
              "      <th>std</th>\n",
              "      <th>min</th>\n",
              "      <th>25%</th>\n",
              "      <th>50%</th>\n",
              "      <th>75%</th>\n",
              "      <th>max</th>\n",
              "    </tr>\n",
              "    <tr>\n",
              "      <th>race</th>\n",
              "      <th>sex</th>\n",
              "      <th></th>\n",
              "      <th></th>\n",
              "      <th></th>\n",
              "      <th></th>\n",
              "      <th></th>\n",
              "      <th></th>\n",
              "      <th></th>\n",
              "      <th></th>\n",
              "    </tr>\n",
              "  </thead>\n",
              "  <tbody>\n",
              "    <tr>\n",
              "      <th rowspan=\"2\" valign=\"top\">Amer-Indian-Eskimo</th>\n",
              "      <th>Female</th>\n",
              "      <td>119.0</td>\n",
              "      <td>37.117647</td>\n",
              "      <td>13.114991</td>\n",
              "      <td>17.0</td>\n",
              "      <td>27.0</td>\n",
              "      <td>36.0</td>\n",
              "      <td>46.00</td>\n",
              "      <td>80.0</td>\n",
              "    </tr>\n",
              "    <tr>\n",
              "      <th>Male</th>\n",
              "      <td>192.0</td>\n",
              "      <td>37.208333</td>\n",
              "      <td>12.049563</td>\n",
              "      <td>17.0</td>\n",
              "      <td>28.0</td>\n",
              "      <td>35.0</td>\n",
              "      <td>45.00</td>\n",
              "      <td>82.0</td>\n",
              "    </tr>\n",
              "    <tr>\n",
              "      <th rowspan=\"2\" valign=\"top\">Asian-Pac-Islander</th>\n",
              "      <th>Female</th>\n",
              "      <td>346.0</td>\n",
              "      <td>35.089595</td>\n",
              "      <td>12.300845</td>\n",
              "      <td>17.0</td>\n",
              "      <td>25.0</td>\n",
              "      <td>33.0</td>\n",
              "      <td>43.75</td>\n",
              "      <td>75.0</td>\n",
              "    </tr>\n",
              "    <tr>\n",
              "      <th>Male</th>\n",
              "      <td>693.0</td>\n",
              "      <td>39.073593</td>\n",
              "      <td>12.883944</td>\n",
              "      <td>18.0</td>\n",
              "      <td>29.0</td>\n",
              "      <td>37.0</td>\n",
              "      <td>46.00</td>\n",
              "      <td>90.0</td>\n",
              "    </tr>\n",
              "    <tr>\n",
              "      <th rowspan=\"2\" valign=\"top\">Black</th>\n",
              "      <th>Female</th>\n",
              "      <td>1555.0</td>\n",
              "      <td>37.854019</td>\n",
              "      <td>12.637197</td>\n",
              "      <td>17.0</td>\n",
              "      <td>28.0</td>\n",
              "      <td>37.0</td>\n",
              "      <td>46.00</td>\n",
              "      <td>90.0</td>\n",
              "    </tr>\n",
              "    <tr>\n",
              "      <th>Male</th>\n",
              "      <td>1569.0</td>\n",
              "      <td>37.682600</td>\n",
              "      <td>12.882612</td>\n",
              "      <td>17.0</td>\n",
              "      <td>27.0</td>\n",
              "      <td>36.0</td>\n",
              "      <td>46.00</td>\n",
              "      <td>90.0</td>\n",
              "    </tr>\n",
              "    <tr>\n",
              "      <th rowspan=\"2\" valign=\"top\">Other</th>\n",
              "      <th>Female</th>\n",
              "      <td>109.0</td>\n",
              "      <td>31.678899</td>\n",
              "      <td>11.631599</td>\n",
              "      <td>17.0</td>\n",
              "      <td>23.0</td>\n",
              "      <td>29.0</td>\n",
              "      <td>39.00</td>\n",
              "      <td>74.0</td>\n",
              "    </tr>\n",
              "    <tr>\n",
              "      <th>Male</th>\n",
              "      <td>162.0</td>\n",
              "      <td>34.654321</td>\n",
              "      <td>11.355531</td>\n",
              "      <td>17.0</td>\n",
              "      <td>26.0</td>\n",
              "      <td>32.0</td>\n",
              "      <td>42.00</td>\n",
              "      <td>77.0</td>\n",
              "    </tr>\n",
              "    <tr>\n",
              "      <th rowspan=\"2\" valign=\"top\">White</th>\n",
              "      <th>Female</th>\n",
              "      <td>8642.0</td>\n",
              "      <td>36.811618</td>\n",
              "      <td>14.329093</td>\n",
              "      <td>17.0</td>\n",
              "      <td>25.0</td>\n",
              "      <td>35.0</td>\n",
              "      <td>46.00</td>\n",
              "      <td>90.0</td>\n",
              "    </tr>\n",
              "    <tr>\n",
              "      <th>Male</th>\n",
              "      <td>19174.0</td>\n",
              "      <td>39.652498</td>\n",
              "      <td>13.436029</td>\n",
              "      <td>17.0</td>\n",
              "      <td>29.0</td>\n",
              "      <td>38.0</td>\n",
              "      <td>49.00</td>\n",
              "      <td>90.0</td>\n",
              "    </tr>\n",
              "  </tbody>\n",
              "</table>\n",
              "</div>"
            ],
            "text/plain": [
              "                             count       mean        std  ...   50%    75%   max\n",
              "race               sex                                    ...                   \n",
              "Amer-Indian-Eskimo Female    119.0  37.117647  13.114991  ...  36.0  46.00  80.0\n",
              "                   Male      192.0  37.208333  12.049563  ...  35.0  45.00  82.0\n",
              "Asian-Pac-Islander Female    346.0  35.089595  12.300845  ...  33.0  43.75  75.0\n",
              "                   Male      693.0  39.073593  12.883944  ...  37.0  46.00  90.0\n",
              "Black              Female   1555.0  37.854019  12.637197  ...  37.0  46.00  90.0\n",
              "                   Male     1569.0  37.682600  12.882612  ...  36.0  46.00  90.0\n",
              "Other              Female    109.0  31.678899  11.631599  ...  29.0  39.00  74.0\n",
              "                   Male      162.0  34.654321  11.355531  ...  32.0  42.00  77.0\n",
              "White              Female   8642.0  36.811618  14.329093  ...  35.0  46.00  90.0\n",
              "                   Male    19174.0  39.652498  13.436029  ...  38.0  49.00  90.0\n",
              "\n",
              "[10 rows x 8 columns]"
            ]
          },
          "metadata": {
            "tags": []
          },
          "execution_count": 9
        }
      ]
    },
    {
      "cell_type": "code",
      "metadata": {
        "id": "Ge2DoRMJyWDq",
        "colab": {
          "base_uri": "https://localhost:8080/",
          "height": 52
        },
        "outputId": "a847abbd-99d9-400b-da3e-7b4c3683f13a"
      },
      "source": [
        "print('Максимальний вік чоловіків раси Amer-Indian-Eskimo:')\n",
        "df.groupby(['race', 'sex'])['age'].describe().loc['Amer-Indian-Eskimo'].loc['Male']['max']"
      ],
      "execution_count": null,
      "outputs": [
        {
          "output_type": "stream",
          "text": [
            "Максимальний вік чоловіків раси Amer-Indian-Eskimo:\n"
          ],
          "name": "stdout"
        },
        {
          "output_type": "execute_result",
          "data": {
            "text/plain": [
              "82.0"
            ]
          },
          "metadata": {
            "tags": []
          },
          "execution_count": 15
        }
      ]
    },
    {
      "cell_type": "markdown",
      "metadata": {
        "id": "SS-GSXPMd6j5"
      },
      "source": [
        "7. Серед кого більша частка заробляючих багато (> 50K): серед одружених або\n",
        "неодружених чоловіків (ознака marital-status)? Одруженими вважаємо тих, у кого\n",
        "\n",
        "marital-status починається з Married (Married-civ-spouse, Married-spouse-absent\n",
        "або Married-AF-spouse), інших вважаємо холостими."
      ]
    },
    {
      "cell_type": "code",
      "metadata": {
        "id": "Jb81CL6FdQSK",
        "colab": {
          "base_uri": "https://localhost:8080/",
          "height": 34
        },
        "outputId": "5b619033-ee23-4fcf-d54d-0c8a15482545"
      },
      "source": [
        "totaly = df[df['salary'] == '>50K']\n",
        "married_rich = len(totaly[totaly['marital-status'].str.startswith('Married')])\n",
        "not_married_rich = len(totaly[totaly['marital-status'].str.startswith('Married') == False])\n",
        "\n",
        "married = len(df[df['marital-status'].str.startswith('Married')])\n",
        "not_married = len(df[df['marital-status'].str.startswith('Married') == False])\n",
        "\n",
        "part_married_rich = married_rich / married\n",
        "part_not_married_rich = not_married_rich / not_married\n",
        "\n",
        "if part_married_rich > part_not_married_rich:\n",
        "  print('Частка заробляючих багато серед одружених чоловіків більша')\n",
        "elif part_married_rich == part_not_married_rich:\n",
        "  print('Частки заробляючих багато серед одружених і неодружених чоловіків рівні')\n",
        "else:\n",
        "  print('Частка заробляючих багато серед неодружених чоловіків більша')\n"
      ],
      "execution_count": null,
      "outputs": [
        {
          "output_type": "stream",
          "text": [
            "Частка заробляючих багато серед одружених чоловіків більша\n"
          ],
          "name": "stdout"
        }
      ]
    },
    {
      "cell_type": "markdown",
      "metadata": {
        "id": "twwaiq9IeAMG"
      },
      "source": [
        "8. Яка максимальна кількість годин людина працює в тиждень (ознака hours-per-\n",
        "week)? Скільки людей працюють таку кількість годин і який серед них відсоток\n",
        "\n",
        "заробляють багато?"
      ]
    },
    {
      "cell_type": "code",
      "metadata": {
        "id": "WNYe00NTdQPA",
        "colab": {
          "base_uri": "https://localhost:8080/",
          "height": 70
        },
        "outputId": "416a4596-c711-4ca0-be71-a9061ab98cad"
      },
      "source": [
        "max_ = df['hours-per-week'].max()\n",
        "count_max = df[df['hours-per-week'] == max_]['hours-per-week'].count()\n",
        "per_famous = df[(df['hours-per-week'] == max_) & (df['salary'] == '>50K')]['hours-per-week'].count() / count_max * 100\n",
        "\n",
        "print('Максимальна кількість годин людина працює в тиждень:', max_)\n",
        "print('Скільки людей працюють таку кількість годин:', count_max)\n",
        "print('Відсоток серед них, що заробляють багато:', per_famous)"
      ],
      "execution_count": null,
      "outputs": [
        {
          "output_type": "stream",
          "text": [
            "Максимальна кількість годин людина працює в тиждень: 99\n",
            "Скільки людей працюють таку кількість годин: 85\n",
            "Відсоток серед них, що заробляють багато: 29.411764705882355\n"
          ],
          "name": "stdout"
        }
      ]
    },
    {
      "cell_type": "markdown",
      "metadata": {
        "id": "ccLcwPGmeDHH"
      },
      "source": [
        "9. Порахуйте середній час роботи (hours-per-week) тих, хто заробляє мало і багато\n",
        "(salary) для кожної країни (native-country)."
      ]
    },
    {
      "cell_type": "code",
      "metadata": {
        "id": "7UCK0yvnjA0r",
        "colab": {
          "base_uri": "https://localhost:8080/",
          "height": 247
        },
        "outputId": "3f762292-b418-485e-c68f-135a767eb176"
      },
      "source": [
        "df.groupby(['native-country', 'salary'])['hours-per-week'].describe()['mean']"
      ],
      "execution_count": null,
      "outputs": [
        {
          "output_type": "execute_result",
          "data": {
            "text/plain": [
              "native-country  salary\n",
              "?               <=50K     40.164760\n",
              "                >50K      45.547945\n",
              "Cambodia        <=50K     41.416667\n",
              "                >50K      40.000000\n",
              "Canada          <=50K     37.914634\n",
              "                            ...    \n",
              "United-States   >50K      45.505369\n",
              "Vietnam         <=50K     37.193548\n",
              "                >50K      39.200000\n",
              "Yugoslavia      <=50K     41.600000\n",
              "                >50K      49.500000\n",
              "Name: mean, Length: 82, dtype: float64"
            ]
          },
          "metadata": {
            "tags": []
          },
          "execution_count": 13
        }
      ]
    }
  ]
}