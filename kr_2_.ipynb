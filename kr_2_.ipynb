{
  "nbformat": 4,
  "nbformat_minor": 0,
  "metadata": {
    "colab": {
      "name": "kr_2_.ipynb",
      "provenance": [],
      "authorship_tag": "ABX9TyNmmt3CjN8wO7HgtVOiu4qg",
      "include_colab_link": true
    },
    "kernelspec": {
      "name": "python3",
      "display_name": "Python 3"
    }
  },
  "cells": [
    {
      "cell_type": "markdown",
      "metadata": {
        "id": "view-in-github",
        "colab_type": "text"
      },
      "source": [
        "<a href=\"https://colab.research.google.com/github/anh-honcharuk/Neural-Networks/blob/main/kr_2_.ipynb\" target=\"_parent\"><img src=\"https://colab.research.google.com/assets/colab-badge.svg\" alt=\"Open In Colab\"/></a>"
      ]
    },
    {
      "cell_type": "markdown",
      "metadata": {
        "id": "JX1xVbgqT2mr"
      },
      "source": [
        "Створити і навчити повнозвязну нейронну мережу (НМ) для\n",
        "прийняття рішення о зарахуванні абітурієнтів у навчальний заклад\n",
        "(коледж). Абітурієнти складають іспити з математики, фізики та\n",
        "української мови.\n",
        "Правила прийому наступні:\n",
        "1. Прохідний бал для абітурієнтів, що не мають пільг повинен\n",
        "дорівнювати 11.\n",
        "2. Задовільна оцінка (оцінка 3) з математики і фізики для цієї\n",
        "категорії абітурієнтів неприпустимі.\n",
        "3. Абітурієнти, що мають пільги, зараховуються при будь-яких\n",
        "позитивних (3 і вище) оцінках з усіх трьох предметів\n",
        "відповідно.\n",
        "\n",
        "---\n",
        "\n",
        "\n",
        "• Для навчання НМ використати підхід навчання з вчителем.\n",
        "\n",
        "---\n",
        "\n",
        "\n",
        "• Визначити мінімальну кількість шарів та нейронів в цих шарах,\n",
        "що забезпечує задовільний розв’язок поставленої задачі.\n",
        "Обґрунтувати.\n",
        "\n",
        "---\n",
        "\n",
        "\n",
        "• Сформувати (згенерувати) самостійно необхідний датасет.\n",
        "Вивести вміст датасету та окремо вивести навчальну та\n",
        "валідаційну вібірку.\n",
        "\n",
        "---\n",
        "\n",
        "\n",
        "• Передбачити можливість введення оцінок користувачем\n",
        "(тестових даних) та виведенням результату о зарахуванні.\n",
        "Спосіб введення обрати самостійно (зчитування з файлу,\n",
        "введення з клавіатури, тощо).\n",
        "\n",
        "---\n",
        "\n",
        "\n",
        "• Оцінити роботу мережі. Результати обґрунтувати та вивести."
      ]
    },
    {
      "cell_type": "code",
      "metadata": {
        "id": "uVHbXoIU300p"
      },
      "source": [
        "import pandas as pd\n",
        "import os\n",
        "import numpy as np\n",
        "import sklearn.tree as st #import DecisionTreeClassifier, export_graphviz\n",
        "from sklearn.metrics import roc_auc_score\n",
        "from google.colab import files\n",
        "import matplotlib.pyplot as plt"
      ],
      "execution_count": null,
      "outputs": []
    },
    {
      "cell_type": "code",
      "metadata": {
        "colab": {
          "base_uri": "https://localhost:8080/",
          "height": 204
        },
        "id": "fREtLw8G31eP",
        "outputId": "b094e0d3-d687-460c-eee9-acd5d0768a4e"
      },
      "source": [
        "data = pd.read_csv('data_.csv', sep=\";\")\n",
        "data.head()"
      ],
      "execution_count": null,
      "outputs": [
        {
          "output_type": "execute_result",
          "data": {
            "text/html": [
              "<div>\n",
              "<style scoped>\n",
              "    .dataframe tbody tr th:only-of-type {\n",
              "        vertical-align: middle;\n",
              "    }\n",
              "\n",
              "    .dataframe tbody tr th {\n",
              "        vertical-align: top;\n",
              "    }\n",
              "\n",
              "    .dataframe thead th {\n",
              "        text-align: right;\n",
              "    }\n",
              "</style>\n",
              "<table border=\"1\" class=\"dataframe\">\n",
              "  <thead>\n",
              "    <tr style=\"text-align: right;\">\n",
              "      <th></th>\n",
              "      <th>uk</th>\n",
              "      <th>math</th>\n",
              "      <th>physics</th>\n",
              "      <th>privilege</th>\n",
              "      <th>passed</th>\n",
              "    </tr>\n",
              "  </thead>\n",
              "  <tbody>\n",
              "    <tr>\n",
              "      <th>0</th>\n",
              "      <td>0</td>\n",
              "      <td>5</td>\n",
              "      <td>2</td>\n",
              "      <td>0</td>\n",
              "      <td>0</td>\n",
              "    </tr>\n",
              "    <tr>\n",
              "      <th>1</th>\n",
              "      <td>1</td>\n",
              "      <td>5</td>\n",
              "      <td>5</td>\n",
              "      <td>0</td>\n",
              "      <td>1</td>\n",
              "    </tr>\n",
              "    <tr>\n",
              "      <th>2</th>\n",
              "      <td>3</td>\n",
              "      <td>1</td>\n",
              "      <td>0</td>\n",
              "      <td>1</td>\n",
              "      <td>0</td>\n",
              "    </tr>\n",
              "    <tr>\n",
              "      <th>3</th>\n",
              "      <td>2</td>\n",
              "      <td>1</td>\n",
              "      <td>4</td>\n",
              "      <td>1</td>\n",
              "      <td>0</td>\n",
              "    </tr>\n",
              "    <tr>\n",
              "      <th>4</th>\n",
              "      <td>1</td>\n",
              "      <td>5</td>\n",
              "      <td>0</td>\n",
              "      <td>1</td>\n",
              "      <td>0</td>\n",
              "    </tr>\n",
              "  </tbody>\n",
              "</table>\n",
              "</div>"
            ],
            "text/plain": [
              "   uk  math  physics  privilege  passed\n",
              "0   0     5        2          0       0\n",
              "1   1     5        5          0       1\n",
              "2   3     1        0          1       0\n",
              "3   2     1        4          1       0\n",
              "4   1     5        0          1       0"
            ]
          },
          "metadata": {
            "tags": []
          },
          "execution_count": 2
        }
      ]
    },
    {
      "cell_type": "code",
      "metadata": {
        "id": "eQzF4m6a31xc"
      },
      "source": [
        "clf = st.DecisionTreeClassifier(random_state=1)\n",
        "x = data.drop(columns='passed')\n",
        "y = data['passed']\n",
        "clf = clf.fit(x, y)"
      ],
      "execution_count": null,
      "outputs": []
    },
    {
      "cell_type": "code",
      "metadata": {
        "id": "idl7sgxz4SH9"
      },
      "source": [
        "x_ = pd.read_csv('check.csv', sep=\";\")\n",
        "y__ = pd.read_csv('check2.csv', sep=\";\")\n",
        "y_ = list(y__['passed'])"
      ],
      "execution_count": null,
      "outputs": []
    },
    {
      "cell_type": "code",
      "metadata": {
        "id": "_imWMvbb32Ir"
      },
      "source": [
        "predict_ = clf.predict(x_)\n",
        "proba_ = clf.predict_proba(x_)[:, 1]\n",
        "roc_ = roc_auc_score(y_, proba_)\n",
        "result = list(predict_)"
      ],
      "execution_count": null,
      "outputs": []
    },
    {
      "cell_type": "code",
      "metadata": {
        "colab": {
          "base_uri": "https://localhost:8080/"
        },
        "id": "03M62rPAXs8M",
        "outputId": "d0606b28-8ace-42c3-bb20-8ee9f84f8ca3"
      },
      "source": [
        "print('Точність: ' , clf.score(x,y))\n",
        "print('Важливість : ', clf.feature_importances_)"
      ],
      "execution_count": null,
      "outputs": [
        {
          "output_type": "stream",
          "text": [
            "Точність:  1.0\n",
            "Важливість :  [0.29732583 0.22720391 0.32208208 0.15338818]\n"
          ],
          "name": "stdout"
        }
      ]
    },
    {
      "cell_type": "code",
      "metadata": {
        "colab": {
          "base_uri": "https://localhost:8080/"
        },
        "id": "5l9WmDr4RyYL",
        "outputId": "5cbf9559-7e5c-4190-be08-ebc8dcc98b23"
      },
      "source": [
        "a = input('Введіть порядковий номер абітурієнта:')\n",
        "if result[int(a)] == 1:\n",
        "  print('Зараховано')\n",
        "else:\n",
        "  print('Не зараховано')"
      ],
      "execution_count": null,
      "outputs": [
        {
          "output_type": "stream",
          "text": [
            "Введіть порядковий номер абітурієнта:5\n",
            "Зараховано\n"
          ],
          "name": "stdout"
        }
      ]
    }
  ]
}