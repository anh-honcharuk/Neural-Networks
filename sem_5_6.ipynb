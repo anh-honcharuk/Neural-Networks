{
  "nbformat": 4,
  "nbformat_minor": 0,
  "metadata": {
    "colab": {
      "name": "sem_5_6.ipynb",
      "provenance": [],
      "authorship_tag": "ABX9TyPdxcWB/+lSsy1uw8zzsTUh",
      "include_colab_link": true
    },
    "kernelspec": {
      "name": "python3",
      "display_name": "Python 3"
    }
  },
  "cells": [
    {
      "cell_type": "markdown",
      "metadata": {
        "id": "view-in-github",
        "colab_type": "text"
      },
      "source": [
        "<a href=\"https://colab.research.google.com/github/anh-honcharuk/Neural-Networks/blob/main/sem_5_6.ipynb\" target=\"_parent\"><img src=\"https://colab.research.google.com/assets/colab-badge.svg\" alt=\"Open In Colab\"/></a>"
      ]
    },
    {
      "cell_type": "code",
      "metadata": {
        "id": "l3IhZmD-qhmZ"
      },
      "source": [
        "import numpy  as np\n",
        "import matplotlib.pyplot as plt\n",
        "from tensorflow import keras\n",
        "import numpy as np\n",
        "\n",
        "import keras.layers as lay\n",
        "import keras.models as mod"
      ],
      "execution_count": null,
      "outputs": []
    },
    {
      "cell_type": "markdown",
      "metadata": {
        "id": "GbvNLbZVrCvg"
      },
      "source": [
        "1. Дан набір точок. Апроксимуйте дану залежність поліномом другого\n",
        "ступеня за допомогою нейронної мережі. Рішення доповнити графіком з\n",
        "зображенням вихідних точок і кривої, отриманої за допомогою\n",
        "нейронної мережі."
      ]
    },
    {
      "cell_type": "code",
      "metadata": {
        "id": "eKN6Y-Brqw_z"
      },
      "source": [
        "model = mod.Sequential()\n",
        "model.add(lay.Input(shape=(3,)))\n",
        "model.add(lay.Dense(units=1, activation='linear'))\n",
        "model.compile(optimizer='adam', loss='mean_squared_error')"
      ],
      "execution_count": null,
      "outputs": []
    },
    {
      "cell_type": "code",
      "metadata": {
        "id": "3jqED3dcq4zj"
      },
      "source": [
        "x_ = range(9)\n",
        "X_ = [[i * i, i, 1] for i in x_]\n",
        "Y_ = [6.45, 4.06, 2.53, 2.05, 2.48, 3.97, 6.57, 9.94, 14.45]"
      ],
      "execution_count": null,
      "outputs": []
    },
    {
      "cell_type": "code",
      "metadata": {
        "id": "_jXf6ROPrFco",
        "colab": {
          "base_uri": "https://localhost:8080/",
          "height": 265
        },
        "outputId": "6647a5ad-3798-44a7-8cdc-173829b4087b"
      },
      "source": [
        "_, axis = plt.subplots()\n",
        "axis.plot(x_, Y_)\n",
        "plt.show()"
      ],
      "execution_count": null,
      "outputs": [
        {
          "output_type": "display_data",
          "data": {
            "image/png": "[encoded data removed]",
            "text/plain": [
              "<Figure size 432x288 with 1 Axes>"
            ]
          },
          "metadata": {
            "tags": [],
            "needs_background": "light"
          }
        }
      ]
    },
    {
      "cell_type": "code",
      "metadata": {
        "id": "EhStijHkrFj4",
        "colab": {
          "base_uri": "https://localhost:8080/",
          "height": 265
        },
        "outputId": "2a0fa992-9705-46bb-a4f7-4ca53747bad3"
      },
      "source": [
        "model.fit(np.array(X_), np.array(Y_), epochs=4500, batch_size=1, verbose=0)\n",
        "values = np.array([[(i * 0.2 - 1) ** 2, i * 0.2 - 1, 1]  for i in range(60)])\n",
        "predict_values_y = model.predict(values)\n",
        "__, axis_ = plt.subplots()\n",
        "axis_.scatter(x_, Y_)\n",
        "axis_.plot(values[:,1], predict_values_y)\n",
        "plt.show()"
      ],
      "execution_count": null,
      "outputs": [
        {
          "output_type": "display_data",
          "data": {
            "image/png": "[encoded data removed]",
            "text/plain": [
              "<Figure size 432x288 with 1 Axes>"
            ]
          },
          "metadata": {
            "tags": [],
            "needs_background": "light"
          }
        }
      ]
    },
    {
      "cell_type": "markdown",
      "metadata": {
        "id": "zVl_ddhAr3eH"
      },
      "source": [
        "2. Створіть нейронну мережу, яка правильно класифікує об'єкти,\n",
        "користуючись даними з таблиці.\n",
        "Відповідь: Якщо «Параметр 1» = 1, то 1-й клас, якщо «Параметр 2» =\n",
        "«Параметр 3», то 2-й клас, в іншому випадку - 3-й клас."
      ]
    },
    {
      "cell_type": "code",
      "metadata": {
        "id": "s8ztdPOBsgVD"
      },
      "source": [
        "model = mod.Sequential()\n",
        "model.add(lay.Input(shape=(3,)))\n",
        "model.add(lay.Dense(units=3, activation='relu'))\n",
        "model.add(lay.Dense(units=3, activation='softmax'))\n",
        "model.compile(optimizer='adam', loss='categorical_crossentropy', metrics=['accuracy'])"
      ],
      "execution_count": null,
      "outputs": []
    },
    {
      "cell_type": "code",
      "metadata": {
        "id": "vOcVe7dFspqm",
        "colab": {
          "base_uri": "https://localhost:8080/"
        },
        "outputId": "d424ef7e-f583-4295-faf6-bca09316dd7f"
      },
      "source": [
        "X__ = np.array([[1, 1, 0], \n",
        "                [1, 0, 1],\n",
        "                [0, 1, 1],\n",
        "                [0, 0, 1],\n",
        "                [0, 1, 0],\n",
        "                [1, 1, 1],\n",
        "                [0, 0, 0]])\n",
        "Y__ = np.array([0, 0, 1, 2, 2, 0, 1])\n",
        "Y_cat = keras.utils.to_categorical(Y__, 3)\n",
        "model.fit(X__, Y_cat, epochs=2000, batch_size=1, verbose=0)"
      ],
      "execution_count": null,
      "outputs": [
        {
          "output_type": "execute_result",
          "data": {
            "text/plain": [
              "<tensorflow.python.keras.callbacks.History at 0x7f916afb7550>"
            ]
          },
          "metadata": {
            "tags": []
          },
          "execution_count": 7
        }
      ]
    },
    {
      "cell_type": "code",
      "metadata": {
        "id": "7CFxa3sFs4X1",
        "colab": {
          "base_uri": "https://localhost:8080/"
        },
        "outputId": "17a93b32-5943-4617-debc-a37fd457ef77"
      },
      "source": [
        "n = range(8)\n",
        "values = [[i // 4 % 2, i // 2 % 2, i % 2] for i in n]\n",
        "class_ = np.argmax(model.predict(values), axis=1) + 1\n",
        "print('1 2 3  class')\n",
        "print('-------------')\n",
        "for i in n:\n",
        "   print(values[i][0], values[i][1], values[i][2], \"  \", class_[i])\n"
      ],
      "execution_count": null,
      "outputs": [
        {
          "output_type": "stream",
          "text": [
            "1 2 3  class\n",
            "-------------\n",
            "0 0 0    2\n",
            "0 0 1    3\n",
            "0 1 0    3\n",
            "0 1 1    2\n",
            "1 0 0    1\n",
            "1 0 1    1\n",
            "1 1 0    1\n",
            "1 1 1    1\n"
          ],
          "name": "stdout"
        }
      ]
    }
  ]
}