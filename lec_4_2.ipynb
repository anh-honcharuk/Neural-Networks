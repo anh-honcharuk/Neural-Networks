{
  "nbformat": 4,
  "nbformat_minor": 0,
  "metadata": {
    "colab": {
      "name": "4_lec_2.ipynb",
      "provenance": [],
      "collapsed_sections": [],
      "authorship_tag": "ABX9TyM63VyHCoTknhs+hDds3mbg",
      "include_colab_link": true
    },
    "kernelspec": {
      "name": "python3",
      "display_name": "Python 3"
    }
  },
  "cells": [
    {
      "cell_type": "markdown",
      "metadata": {
        "id": "view-in-github",
        "colab_type": "text"
      },
      "source": [
        "<a href=\"https://colab.research.google.com/github/anh-honcharuk/Neural-Networks/blob/main/4_lec_2.ipynb\" target=\"_parent\"><img src=\"https://colab.research.google.com/assets/colab-badge.svg\" alt=\"Open In Colab\"/></a>"
      ]
    },
    {
      "cell_type": "code",
      "metadata": {
        "id": "Eswio5170H4M",
        "colab": {
          "base_uri": "https://localhost:8080/"
        },
        "outputId": "7a40ec12-b663-4cd9-8f06-49e30b703f88"
      },
      "source": [
        "import numpy as np\n",
        "\n",
        "def sigmoid(x):\n",
        "    return 1 / (1 + np.exp(-x))\n",
        "\n",
        "training_inputs = np.array([[0, 0, 1],\n",
        "                           [1, 1, 1],\n",
        "                           [1, 0, 1],\n",
        "                           [0, 1, 1]])\n",
        "training_outputs = np.array([[0, 1, 1, 0]]).T\n",
        "\n",
        "np.random.seed(1)\n",
        "\n",
        "synaptic_weights = 2 * np.random.random((3, 1)) - 1\n",
        "\n",
        "print(\"Rand init weights:\")\n",
        "print(synaptic_weights)\n",
        "\n",
        "for i in range(20000):\n",
        "    input_layer = training_inputs\n",
        "    outputs = sigmoid(np.dot(input_layer, synaptic_weights))\n",
        "\n",
        "    err = training_outputs - outputs\n",
        "    adjustments = np.dot(input_layer.T, err * (outputs * (1 - outputs)))\n",
        "\n",
        "    synaptic_weights += adjustments\n",
        "\n",
        "print(\"weights after lerning:\")\n",
        "print(synaptic_weights)\n",
        "\n",
        "print(\"result:\")\n",
        "print(outputs)\n",
        "\n",
        "# new\n",
        "new_inputs = np.array([1, 1, 0])\n",
        "outputs = sigmoid(np.dot(new_inputs, synaptic_weights))\n",
        "\n",
        "print(\"new:\")\n",
        "print(outputs)"
      ],
      "execution_count": null,
      "outputs": [
        {
          "output_type": "stream",
          "text": [
            "Rand init weights:\n",
            "[[-0.16595599]\n",
            " [ 0.44064899]\n",
            " [-0.99977125]]\n",
            "weights after lerning:\n",
            "[[10.38040701]\n",
            " [-0.20641179]\n",
            " [-4.98452047]]\n",
            "result:\n",
            "[[0.00679672]\n",
            " [0.99445583]\n",
            " [0.99548516]\n",
            " [0.00553614]]\n",
            "new:\n",
            "[0.99996185]\n"
          ],
          "name": "stdout"
        }
      ]
    }
  ]
}
