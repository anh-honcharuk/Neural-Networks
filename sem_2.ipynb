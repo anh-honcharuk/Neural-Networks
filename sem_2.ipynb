{
  "nbformat": 4,
  "nbformat_minor": 0,
  "metadata": {
    "colab": {
      "name": "sem_2.ipynb",
      "provenance": [],
      "collapsed_sections": [],
      "authorship_tag": "ABX9TyO+91IPz+kjggWnEsz9kp5c",
      "include_colab_link": true
    },
    "kernelspec": {
      "name": "python3",
      "display_name": "Python 3"
    }
  },
  "cells": [
    {
      "cell_type": "markdown",
      "metadata": {
        "id": "view-in-github",
        "colab_type": "text"
      },
      "source": [
        "<a href=\"https://colab.research.google.com/github/anh-honcharuk/Neural-Networks/blob/main/sem_2.ipynb\" target=\"_parent\"><img src=\"https://colab.research.google.com/assets/colab-badge.svg\" alt=\"Open In Colab\"/></a>"
      ]
    },
    {
      "cell_type": "markdown",
      "metadata": {
        "id": "5C6dj7duRmSK"
      },
      "source": [
        "1) Припустимо, що у вас є багатошаровий персептрон, що складається з одного\n",
        "вхідного шару з 10 нейронами, за яким є ще один прихований шар з 50\n",
        "нейронами і один вихідний шар з 3 нейронами. Всі штучні нейрони\n",
        "застосовують функцію активації ReLU.\n",
        "1.  Яка форма вхідної матриці Х? - **10x1**\n",
        "2. Що можна сказати (1) про форму вектора ваг Wh прихованого шару і (2) формі його вектора зсувів bh? - **(1) 50x10 i (2) 50x1**\n",
        "3. Яка (1) форма вектора ваг W0 вихідного шару і (2) форма його вектора зсувів b0? - **(1) 3x50 i (2) 3x1**\n",
        "4. Яка форма вихідної матриці Y мережі? - **3x1**\n",
        "5. Напишіть рівняння, яке обчислює вихідну матрицю Y мережі як функцію\n",
        "Х, Wh, bh, W0 і b0.\n",
        "  **Y = ReLU(W0 * ReLU(Wh * X - bh) - b0)**"
      ]
    },
    {
      "cell_type": "code",
      "metadata": {
        "id": "s7dAxRD-PZiQ"
      },
      "source": [
        "import numpy  as np\n",
        "import matplotlib.pyplot as plt\n",
        "from tensorflow import keras\n",
        "from tensorflow.keras.layers import Dense\n",
        "import time\n",
        "\n",
        "import numpy as np\n",
        "from sklearn.metrics import accuracy_score\n",
        "import tensorflow as tf\n",
        "\n",
        "import keras.layers as lay\n",
        "import keras.backend as back\n",
        "import keras.models as mod\n",
        "from keras.datasets import mnist"
      ],
      "execution_count": null,
      "outputs": []
    },
    {
      "cell_type": "code",
      "metadata": {
        "id": "BT2auKkVRiaP"
      },
      "source": [
        "(x_, y_), (x_val, y_val) = tf.keras.datasets.fashion_mnist.load_data()"
      ],
      "execution_count": null,
      "outputs": []
    },
    {
      "cell_type": "markdown",
      "metadata": {
        "id": "cy85mpRASP5e"
      },
      "source": [
        "2. Порівняйте точність класифікації нейронної мережі з різними нелінійними\n",
        "функціями активації з точністю класифікації нейронної мережі з лінійною\n",
        "функцією активації.\n",
        "\n",
        "---\n",
        "**Точність класифікації нейронної мережі з лінійною функцією активації значно нижча за точність класифікації нейронної мережі з різними нелінійними функціями активації**\n"
      ]
    },
    {
      "cell_type": "code",
      "metadata": {
        "id": "1x6lNckbSO8_"
      },
      "source": [
        "def neuro(number, lay_, activ):\n",
        "  \n",
        "  y_train_oh = keras.utils.to_categorical(y_, 10)\n",
        "  y_val_oh = keras.utils.to_categorical(y_val, 10)\n",
        "  back.clear_session()\n",
        "\n",
        "  model = mod.Sequential()\n",
        "  model.add(lay.Dense(number, activation=activ))\n",
        "\n",
        "  for i in range(0, lay_):\n",
        "    model.add(lay.Dense(10, activation=activ))\n",
        "\n",
        "  model.compile(loss='categorical_crossentropy', optimizer='adam', metrics=['accuracy'])\n",
        "\n",
        "  x_train_float = x_.astype(np.float) / 255 - 0.5\n",
        "  x_val_float = x_val.astype(np.float) / 255 - 0.5\n",
        "  t = time.time()\n",
        "\n",
        "  results = model.fit(x_train_float.reshape(-1, 28*28), y_train_oh, batch_size=64, epochs=10, validation_data=(x_val_float.reshape(-1, 28*28), y_val_oh), verbose=0)\n",
        "  #print('Точність класифікації:', np.mean(results.history['val_accuracy']), '\\nЧас виконання:', time.time() - t, '\\n')\n",
        "  return np.mean(results.history['val_accuracy']), time.time() - t\n"
      ],
      "execution_count": null,
      "outputs": []
    },
    {
      "cell_type": "code",
      "metadata": {
        "id": "HDYlpF5uEWmA",
        "colab": {
          "base_uri": "https://localhost:8080/",
          "height": 153
        },
        "outputId": "f9b52497-1905-4ec7-9373-e13be4bc7872"
      },
      "source": [
        "activ =['softmax', 'softplus', 'linear', 'sigmoid']\n",
        "\n",
        "for act in activ:\n",
        "  a, t = neuro(100, 1, act)\n",
        "  print(act)\n",
        "  print(a) "
      ],
      "execution_count": null,
      "outputs": [
        {
          "output_type": "stream",
          "text": [
            "softmax\n",
            "0.7427400052547455\n",
            "softplus\n",
            "0.8599900066852569\n",
            "linear\n",
            "0.11028999984264373\n",
            "sigmoid\n",
            "0.8599699914455414\n"
          ],
          "name": "stdout"
        }
      ]
    },
    {
      "cell_type": "markdown",
      "metadata": {
        "id": "B9_HNhS8SRaZ"
      },
      "source": [
        "3. Для двошарової нейронної мережі з фіксованою функцією активації побудуйте\n",
        "графік залежності часу навчання нейронної мережі і точності класифікації від\n",
        "кількості нейронів в прихованому шарі мережі."
      ]
    },
    {
      "cell_type": "code",
      "metadata": {
        "id": "39vZkpEQxWdM"
      },
      "source": [
        "neurons = [1, 3, 5, 10, 15, 20, 25, 50, 75, 100, 250, 500, 1000]\n",
        "time_ = []\n",
        "acc_ = []\n",
        "for n in neurons:\n",
        "  a, t = neuro(n, 1, 'softplus')\n",
        "  time_.append(t)\n",
        "  acc_.append(a)"
      ],
      "execution_count": null,
      "outputs": []
    },
    {
      "cell_type": "code",
      "metadata": {
        "id": "Z51tHJG5Ssmx",
        "colab": {
          "base_uri": "https://localhost:8080/",
          "height": 541
        },
        "outputId": "b2c45afe-f693-427f-e1f0-504e70d75fd9"
      },
      "source": [
        "plt.plot(neurons, time_)\n",
        "plt.xlabel('Кількість нейронів в прихованому шарі мережі')\n",
        "plt.ylabel('Час')\n",
        "plt.show()\n",
        "\n",
        "plt.plot(neurons, acc_)\n",
        "plt.xlabel('Кількість нейронів в прихованому шарі мережі')\n",
        "plt.ylabel('Точність класифікації')\n",
        "plt.show()\n"
      ],
      "execution_count": null,
      "outputs": [
        {
          "output_type": "display_data",
          "data": {
            "image/png": "[encoded data removed]",
            "text/plain": [
              "<Figure size 432x288 with 1 Axes>"
            ]
          },
          "metadata": {
            "tags": [],
            "needs_background": "light"
          }
        },
        {
          "output_type": "display_data",
          "data": {
            "image/png": "[encoded data removed]",
            "text/plain": [
              "<Figure size 432x288 with 1 Axes>"
            ]
          },
          "metadata": {
            "tags": [],
            "needs_background": "light"
          }
        }
      ]
    },
    {
      "cell_type": "markdown",
      "metadata": {
        "id": "QF5f6XD7SSBD"
      },
      "source": [
        "4. Побудуйте графік залежності часу навчання нейронної мережі і точності\n",
        "класифікації від кількості прихованих шарів (всі приховані шари однакового\n",
        "розміру) для багатошарової нейронної мережі з фіксованою функцією активації."
      ]
    },
    {
      "cell_type": "code",
      "metadata": {
        "id": "DoZruzkY0MVe"
      },
      "source": [
        "lay_ = [1, 3, 5, 10, 15, 30, 100]\n",
        "\n",
        "time_l = []\n",
        "acc_l = []\n",
        "for l in lay_:\n",
        "  a_, t_ = neuro(50, l, 'softplus')\n",
        "  time_l.append(t_)\n",
        "  acc_l.append(a_)"
      ],
      "execution_count": null,
      "outputs": []
    },
    {
      "cell_type": "code",
      "metadata": {
        "id": "2_BO2_TK0nLp",
        "colab": {
          "base_uri": "https://localhost:8080/",
          "height": 541
        },
        "outputId": "3208d5e4-ba51-47b9-922c-fd95d34c4238"
      },
      "source": [
        "plt.plot(lay_, time_l)\n",
        "plt.xlabel('Кількість прихованих шарів')\n",
        "plt.ylabel('Час')\n",
        "plt.show()\n",
        "\n",
        "plt.plot(lay_, acc_l)\n",
        "plt.xlabel('Кількість прихованих шарів')\n",
        "plt.ylabel('Точність класифікації')\n",
        "plt.show()"
      ],
      "execution_count": null,
      "outputs": [
        {
          "output_type": "display_data",
          "data": {
            "image/png": "[encoded data removed]",
            "text/plain": [
              "<Figure size 432x288 with 1 Axes>"
            ]
          },
          "metadata": {
            "tags": [],
            "needs_background": "light"
          }
        },
        {
          "output_type": "display_data",
          "data": {
            "image/png": "[encoded data removed]",
            "text/plain": [
              "<Figure size 432x288 with 1 Axes>"
            ]
          },
          "metadata": {
            "tags": [],
            "needs_background": "light"
          }
        }
      ]
    }
  ]
}