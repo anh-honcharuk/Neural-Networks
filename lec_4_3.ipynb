{
  "nbformat": 4,
  "nbformat_minor": 0,
  "metadata": {
    "colab": {
      "name": "lec_4_3.ipynb",
      "provenance": [],
      "collapsed_sections": [],
      "authorship_tag": "ABX9TyO0wsEOE1GELdE5uueWX56l",
      "include_colab_link": true
    },
    "kernelspec": {
      "name": "python3",
      "display_name": "Python 3"
    }
  },
  "cells": [
    {
      "cell_type": "markdown",
      "metadata": {
        "id": "view-in-github",
        "colab_type": "text"
      },
      "source": [
        "<a href=\"https://colab.research.google.com/github/anh-honcharuk/Neural-Networks/blob/main/lec_4_3.ipynb\" target=\"_parent\"><img src=\"https://colab.research.google.com/assets/colab-badge.svg\" alt=\"Open In Colab\"/></a>"
      ]
    },
    {
      "cell_type": "code",
      "metadata": {
        "id": "6yPKuukEyPxW"
      },
      "source": [
        "import numpy  as np\n",
        "import matplotlib.pyplot as plt\n",
        "from tensorflow import keras\n",
        "from tensorflow.keras.layers import Dense\n",
        "import time\n",
        "\n",
        "import numpy as np\n",
        "from sklearn.metrics import accuracy_score\n",
        "import tensorflow as tf"
      ],
      "execution_count": null,
      "outputs": []
    },
    {
      "cell_type": "code",
      "metadata": {
        "id": "0NtlPyxUUx4Z"
      },
      "source": [
        "\n",
        "(x_train, y_train), (x_val, y_val) = tf.keras.datasets.fashion_mnist.load_data()"
      ],
      "execution_count": null,
      "outputs": []
    },
    {
      "cell_type": "code",
      "metadata": {
        "id": "DuEZN1cByX5j"
      },
      "source": [
        "y_train_oh = keras.utils.to_categorical(y_train, 10)\n",
        "\n",
        "y_val_oh = keras.utils.to_categorical(y_val, 10)"
      ],
      "execution_count": null,
      "outputs": []
    },
    {
      "cell_type": "code",
      "metadata": {
        "id": "M8NUwL41UnN0"
      },
      "source": [
        "K.clear_session()\n",
        "\n",
        "model = M.Sequential()\n",
        "\n",
        "model.add(L.Dense(output_dim=128, input_dim=784, activation='elu'))\n",
        "\n",
        "model.add(L.Dense(output_dim=128, activation='elu'))\n",
        "\n",
        "model.add(L.Dense(output_dim=10, activation='softmax'))"
      ],
      "execution_count": null,
      "outputs": []
    },
    {
      "cell_type": "code",
      "metadata": {
        "id": "dmUOjd_Oywag"
      },
      "source": [
        "model.compile(\n",
        "\n",
        "loss='categorical_crossentropy', # minimize cross-entropy\n",
        "\n",
        "optimizer='adam',\n",
        "\n",
        "metrics=['accuracy'] # displaying the percentage of correct answers\n",
        "\n",
        ")"
      ],
      "execution_count": null,
      "outputs": []
    },
    {
      "cell_type": "code",
      "metadata": {
        "id": "v9Wn3Uhxy-2s"
      },
      "source": [
        "x_train_float = x_train.astype(np.float) / 255 - 0.5\n",
        "\n",
        "x_val_float = x_val.astype(np.float) / 255 - 0.5"
      ],
      "execution_count": null,
      "outputs": []
    },
    {
      "cell_type": "code",
      "metadata": {
        "id": "rXG6qWbuzHyD"
      },
      "source": [
        "model.fit(\n",
        "\n",
        "x_train_float.reshape(-1, 28*28),\n",
        "\n",
        "y_train_oh,\n",
        "\n",
        "batch_size=64, # 64 objects to calculate the gradient at each step\n",
        "\n",
        "epochs=10, # 10 passes on the dataset\n",
        "\n",
        "validation_data=(x_val_float.reshape(-1, 28*28), y_val_oh)\n",
        "\n",
        ")"
      ],
      "execution_count": null,
      "outputs": []
    }
  ]
}