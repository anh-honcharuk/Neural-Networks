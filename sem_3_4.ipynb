{
  "nbformat": 4,
  "nbformat_minor": 0,
  "metadata": {
    "colab": {
      "name": "sem_3_4.ipynb",
      "provenance": [],
      "collapsed_sections": [],
      "authorship_tag": "ABX9TyPBa/b7RDJLEzp365HL7NHL",
      "include_colab_link": true
    },
    "kernelspec": {
      "name": "python3",
      "display_name": "Python 3"
    }
  },
  "cells": [
    {
      "cell_type": "markdown",
      "metadata": {
        "id": "view-in-github",
        "colab_type": "text"
      },
      "source": [
        "<a href=\"https://colab.research.google.com/github/anh-honcharuk/Neural-Networks/blob/main/sem_3_4.ipynb\" target=\"_parent\"><img src=\"https://colab.research.google.com/assets/colab-badge.svg\" alt=\"Open In Colab\"/></a>"
      ]
    },
    {
      "cell_type": "markdown",
      "metadata": {
        "id": "uJOm2YxNOR5V"
      },
      "source": [
        "1. Імпортуйте необхідні бібліотеки."
      ]
    },
    {
      "cell_type": "code",
      "metadata": {
        "id": "OXTO3JJwdRd8"
      },
      "source": [
        "import pandas as pd"
      ],
      "execution_count": null,
      "outputs": []
    },
    {
      "cell_type": "markdown",
      "metadata": {
        "id": "J02nY5K9P_LU"
      },
      "source": [
        ""
      ]
    },
    {
      "cell_type": "markdown",
      "metadata": {
        "id": "MIz8iBInOZgL"
      },
      "source": [
        "2. Завантажимо надані у файли з вихідними даними. Ознайомтеся з ними."
      ]
    },
    {
      "cell_type": "code",
      "metadata": {
        "id": "wvb2q-2VfMkr"
      },
      "source": [
        "df = pd.read_csv('howpop_test.csv')\n",
        "df2 = pd.read_csv('howpop_train.csv')"
      ],
      "execution_count": null,
      "outputs": []
    },
    {
      "cell_type": "markdown",
      "metadata": {
        "id": "YOv5Ll25Ocep"
      },
      "source": [
        "3. Виведіть дані так як показано на зображенні."
      ]
    },
    {
      "cell_type": "code",
      "metadata": {
        "id": "PX9JGhxjgn0G",
        "colab": {
          "base_uri": "https://localhost:8080/",
          "height": 362
        },
        "outputId": "63f34c2d-4238-4a78-9cc5-7f2905470bd5"
      },
      "source": [
        "df.head().transpose()"
      ],
      "execution_count": null,
      "outputs": [
        {
          "output_type": "execute_result",
          "data": {
            "text/html": [
              "<div>\n",
              "<style scoped>\n",
              "    .dataframe tbody tr th:only-of-type {\n",
              "        vertical-align: middle;\n",
              "    }\n",
              "\n",
              "    .dataframe tbody tr th {\n",
              "        vertical-align: top;\n",
              "    }\n",
              "\n",
              "    .dataframe thead th {\n",
              "        text-align: right;\n",
              "    }\n",
              "</style>\n",
              "<table border=\"1\" class=\"dataframe\">\n",
              "  <thead>\n",
              "    <tr style=\"text-align: right;\">\n",
              "      <th></th>\n",
              "      <th>0</th>\n",
              "      <th>1</th>\n",
              "      <th>2</th>\n",
              "      <th>3</th>\n",
              "      <th>4</th>\n",
              "    </tr>\n",
              "  </thead>\n",
              "  <tbody>\n",
              "    <tr>\n",
              "      <th>url</th>\n",
              "      <td>https://habrahabr.ru/post/314080/</td>\n",
              "      <td>https://habrahabr.ru/company/plesk/blog/313732/</td>\n",
              "      <td>https://habrahabr.ru/company/etagi/blog/314000/</td>\n",
              "      <td>https://habrahabr.ru/company/knopka/blog/314030/</td>\n",
              "      <td>https://geektimes.ru/company/audiomania/blog/2...</td>\n",
              "    </tr>\n",
              "    <tr>\n",
              "      <th>domain</th>\n",
              "      <td>habrahabr.ru</td>\n",
              "      <td>habrahabr.ru</td>\n",
              "      <td>habrahabr.ru</td>\n",
              "      <td>habrahabr.ru</td>\n",
              "      <td>geektimes.ru</td>\n",
              "    </tr>\n",
              "    <tr>\n",
              "      <th>post_id</th>\n",
              "      <td>314080</td>\n",
              "      <td>313732</td>\n",
              "      <td>314000</td>\n",
              "      <td>314030</td>\n",
              "      <td>282058</td>\n",
              "    </tr>\n",
              "    <tr>\n",
              "      <th>published</th>\n",
              "      <td>2016-11-01 01:05:00</td>\n",
              "      <td>2016-11-01 05:42:00</td>\n",
              "      <td>2016-11-01 08:33:00</td>\n",
              "      <td>2016-11-01 09:00:00</td>\n",
              "      <td>2016-11-01 09:44:00</td>\n",
              "    </tr>\n",
              "    <tr>\n",
              "      <th>author</th>\n",
              "      <td>@fsou11</td>\n",
              "      <td>NaN</td>\n",
              "      <td>NaN</td>\n",
              "      <td>NaN</td>\n",
              "      <td>NaN</td>\n",
              "    </tr>\n",
              "    <tr>\n",
              "      <th>flow</th>\n",
              "      <td>develop</td>\n",
              "      <td>marketing</td>\n",
              "      <td>admin</td>\n",
              "      <td>develop</td>\n",
              "      <td>NaN</td>\n",
              "    </tr>\n",
              "    <tr>\n",
              "      <th>polling</th>\n",
              "      <td>True</td>\n",
              "      <td>False</td>\n",
              "      <td>False</td>\n",
              "      <td>False</td>\n",
              "      <td>False</td>\n",
              "    </tr>\n",
              "    <tr>\n",
              "      <th>content_len</th>\n",
              "      <td>20132</td>\n",
              "      <td>12389</td>\n",
              "      <td>72839</td>\n",
              "      <td>29572</td>\n",
              "      <td>9642</td>\n",
              "    </tr>\n",
              "    <tr>\n",
              "      <th>title</th>\n",
              "      <td>Опыт использования MassTransit 3.0</td>\n",
              "      <td>Геймификация форума на движке XenForo</td>\n",
              "      <td>Кластер высокой доступности на postgresql 9.6 ...</td>\n",
              "      <td>Как перестать бояться и полюбить синтаксически...</td>\n",
              "      <td>Мифы и реальность: Что нужно знать о современн...</td>\n",
              "    </tr>\n",
              "  </tbody>\n",
              "</table>\n",
              "</div>"
            ],
            "text/plain": [
              "                                              0  ...                                                  4\n",
              "url           https://habrahabr.ru/post/314080/  ...  https://geektimes.ru/company/audiomania/blog/2...\n",
              "domain                             habrahabr.ru  ...                                       geektimes.ru\n",
              "post_id                                  314080  ...                                             282058\n",
              "published                   2016-11-01 01:05:00  ...                                2016-11-01 09:44:00\n",
              "author                                  @fsou11  ...                                                NaN\n",
              "flow                                    develop  ...                                                NaN\n",
              "polling                                    True  ...                                              False\n",
              "content_len                               20132  ...                                               9642\n",
              "title        Опыт использования MassTransit 3.0  ...  Мифы и реальность: Что нужно знать о современн...\n",
              "\n",
              "[9 rows x 5 columns]"
            ]
          },
          "metadata": {
            "tags": []
          },
          "execution_count": 3
        }
      ]
    },
    {
      "cell_type": "code",
      "metadata": {
        "id": "vEP9qBLhlo5T",
        "colab": {
          "base_uri": "https://localhost:8080/",
          "height": 588
        },
        "outputId": "c15d2a10-685a-4fc0-c065-26aa01d4d297"
      },
      "source": [
        "df2.head().transpose()"
      ],
      "execution_count": null,
      "outputs": [
        {
          "output_type": "execute_result",
          "data": {
            "text/html": [
              "<div>\n",
              "<style scoped>\n",
              "    .dataframe tbody tr th:only-of-type {\n",
              "        vertical-align: middle;\n",
              "    }\n",
              "\n",
              "    .dataframe tbody tr th {\n",
              "        vertical-align: top;\n",
              "    }\n",
              "\n",
              "    .dataframe thead th {\n",
              "        text-align: right;\n",
              "    }\n",
              "</style>\n",
              "<table border=\"1\" class=\"dataframe\">\n",
              "  <thead>\n",
              "    <tr style=\"text-align: right;\">\n",
              "      <th></th>\n",
              "      <th>0</th>\n",
              "      <th>1</th>\n",
              "      <th>2</th>\n",
              "      <th>3</th>\n",
              "      <th>4</th>\n",
              "    </tr>\n",
              "  </thead>\n",
              "  <tbody>\n",
              "    <tr>\n",
              "      <th>url</th>\n",
              "      <td>https://habrahabr.ru/post/18284/</td>\n",
              "      <td>https://habrahabr.ru/post/18285/</td>\n",
              "      <td>https://habrahabr.ru/post/18286/</td>\n",
              "      <td>https://habrahabr.ru/post/18291/</td>\n",
              "      <td>https://geektimes.ru/post/18294/</td>\n",
              "    </tr>\n",
              "    <tr>\n",
              "      <th>domain</th>\n",
              "      <td>habrahabr.ru</td>\n",
              "      <td>habrahabr.ru</td>\n",
              "      <td>habrahabr.ru</td>\n",
              "      <td>habrahabr.ru</td>\n",
              "      <td>geektimes.ru</td>\n",
              "    </tr>\n",
              "    <tr>\n",
              "      <th>post_id</th>\n",
              "      <td>18284</td>\n",
              "      <td>18285</td>\n",
              "      <td>18286</td>\n",
              "      <td>18291</td>\n",
              "      <td>18294</td>\n",
              "    </tr>\n",
              "    <tr>\n",
              "      <th>published</th>\n",
              "      <td>2008-01-01 18:19:00</td>\n",
              "      <td>2008-01-01 18:30:00</td>\n",
              "      <td>2008-01-01 18:34:00</td>\n",
              "      <td>2008-01-02 01:32:00</td>\n",
              "      <td>2008-01-02 14:34:00</td>\n",
              "    </tr>\n",
              "    <tr>\n",
              "      <th>author</th>\n",
              "      <td>@Tapac</td>\n",
              "      <td>@DezmASter</td>\n",
              "      <td>@DezmASter</td>\n",
              "      <td>@Taoorus</td>\n",
              "      <td>@dennydo</td>\n",
              "    </tr>\n",
              "    <tr>\n",
              "      <th>flow</th>\n",
              "      <td>develop</td>\n",
              "      <td>design</td>\n",
              "      <td>design</td>\n",
              "      <td>design</td>\n",
              "      <td>NaN</td>\n",
              "    </tr>\n",
              "    <tr>\n",
              "      <th>polling</th>\n",
              "      <td>False</td>\n",
              "      <td>False</td>\n",
              "      <td>False</td>\n",
              "      <td>False</td>\n",
              "      <td>False</td>\n",
              "    </tr>\n",
              "    <tr>\n",
              "      <th>content_len</th>\n",
              "      <td>4305</td>\n",
              "      <td>7344</td>\n",
              "      <td>8431</td>\n",
              "      <td>5662</td>\n",
              "      <td>3706</td>\n",
              "    </tr>\n",
              "    <tr>\n",
              "      <th>title</th>\n",
              "      <td>Новогодний подарок блоггерам — WordPress 2.3.2</td>\n",
              "      <td>Сумасшедшие яйца, или сервис для отслеживания ...</td>\n",
              "      <td>Сумасшедшие яйца, или сервис для отслеживания ...</td>\n",
              "      <td>Сглаживание шрифтов, и субпиксельная отрисовка</td>\n",
              "      <td>Почему мне не нравится iPhone</td>\n",
              "    </tr>\n",
              "    <tr>\n",
              "      <th>comments</th>\n",
              "      <td>0</td>\n",
              "      <td>1</td>\n",
              "      <td>47</td>\n",
              "      <td>102</td>\n",
              "      <td>230</td>\n",
              "    </tr>\n",
              "    <tr>\n",
              "      <th>favs</th>\n",
              "      <td>0</td>\n",
              "      <td>1</td>\n",
              "      <td>72</td>\n",
              "      <td>36</td>\n",
              "      <td>6</td>\n",
              "    </tr>\n",
              "    <tr>\n",
              "      <th>views</th>\n",
              "      <td>236</td>\n",
              "      <td>353</td>\n",
              "      <td>1200</td>\n",
              "      <td>5700</td>\n",
              "      <td>1400</td>\n",
              "    </tr>\n",
              "    <tr>\n",
              "      <th>votes_plus</th>\n",
              "      <td>0</td>\n",
              "      <td>1</td>\n",
              "      <td>45</td>\n",
              "      <td>72</td>\n",
              "      <td>73</td>\n",
              "    </tr>\n",
              "    <tr>\n",
              "      <th>votes_minus</th>\n",
              "      <td>0</td>\n",
              "      <td>0</td>\n",
              "      <td>5</td>\n",
              "      <td>3</td>\n",
              "      <td>15</td>\n",
              "    </tr>\n",
              "    <tr>\n",
              "      <th>views_lognorm</th>\n",
              "      <td>-0.792687</td>\n",
              "      <td>-0.485214</td>\n",
              "      <td>0.44609</td>\n",
              "      <td>1.62747</td>\n",
              "      <td>1.3624</td>\n",
              "    </tr>\n",
              "    <tr>\n",
              "      <th>favs_lognorm</th>\n",
              "      <td>-1.34407</td>\n",
              "      <td>-0.831946</td>\n",
              "      <td>1.79402</td>\n",
              "      <td>1.30005</td>\n",
              "      <td>0.961094</td>\n",
              "    </tr>\n",
              "    <tr>\n",
              "      <th>comments_lognorm</th>\n",
              "      <td>-2.43687</td>\n",
              "      <td>-1.87319</td>\n",
              "      <td>0.574656</td>\n",
              "      <td>1.16738</td>\n",
              "      <td>2.02036</td>\n",
              "    </tr>\n",
              "  </tbody>\n",
              "</table>\n",
              "</div>"
            ],
            "text/plain": [
              "                                                               0  ...                                 4\n",
              "url                             https://habrahabr.ru/post/18284/  ...  https://geektimes.ru/post/18294/\n",
              "domain                                              habrahabr.ru  ...                      geektimes.ru\n",
              "post_id                                                    18284  ...                             18294\n",
              "published                                    2008-01-01 18:19:00  ...               2008-01-02 14:34:00\n",
              "author                                                    @Tapac  ...                          @dennydo\n",
              "flow                                                     develop  ...                               NaN\n",
              "polling                                                    False  ...                             False\n",
              "content_len                                                 4305  ...                              3706\n",
              "title             Новогодний подарок блоггерам — WordPress 2.3.2  ...     Почему мне не нравится iPhone\n",
              "comments                                                       0  ...                               230\n",
              "favs                                                           0  ...                                 6\n",
              "views                                                        236  ...                              1400\n",
              "votes_plus                                                     0  ...                                73\n",
              "votes_minus                                                    0  ...                                15\n",
              "views_lognorm                                          -0.792687  ...                            1.3624\n",
              "favs_lognorm                                            -1.34407  ...                          0.961094\n",
              "comments_lognorm                                        -2.43687  ...                           2.02036\n",
              "\n",
              "[17 rows x 5 columns]"
            ]
          },
          "metadata": {
            "tags": []
          },
          "execution_count": 4
        }
      ]
    },
    {
      "cell_type": "markdown",
      "metadata": {
        "id": "kquSdxBROuHQ"
      },
      "source": [
        "4. Видаліть данні, що завершуються на _lognorm"
      ]
    },
    {
      "cell_type": "code",
      "metadata": {
        "id": "LoOXlEMtqTsi",
        "colab": {
          "base_uri": "https://localhost:8080/",
          "height": 496
        },
        "outputId": "aeefe4e8-dea4-4396-f13d-cad6db08551a"
      },
      "source": [
        "# df2.filter(regex=r'^((?!_lognorm).)*$').transpose()\n",
        "prefix_cols = [col for col in df2.columns if not col.endswith('_lognorm')]\n",
        "data = df2[prefix_cols]\n",
        "data.head().transpose()"
      ],
      "execution_count": null,
      "outputs": [
        {
          "output_type": "execute_result",
          "data": {
            "text/html": [
              "<div>\n",
              "<style scoped>\n",
              "    .dataframe tbody tr th:only-of-type {\n",
              "        vertical-align: middle;\n",
              "    }\n",
              "\n",
              "    .dataframe tbody tr th {\n",
              "        vertical-align: top;\n",
              "    }\n",
              "\n",
              "    .dataframe thead th {\n",
              "        text-align: right;\n",
              "    }\n",
              "</style>\n",
              "<table border=\"1\" class=\"dataframe\">\n",
              "  <thead>\n",
              "    <tr style=\"text-align: right;\">\n",
              "      <th></th>\n",
              "      <th>0</th>\n",
              "      <th>1</th>\n",
              "      <th>2</th>\n",
              "      <th>3</th>\n",
              "      <th>4</th>\n",
              "    </tr>\n",
              "  </thead>\n",
              "  <tbody>\n",
              "    <tr>\n",
              "      <th>url</th>\n",
              "      <td>https://habrahabr.ru/post/18284/</td>\n",
              "      <td>https://habrahabr.ru/post/18285/</td>\n",
              "      <td>https://habrahabr.ru/post/18286/</td>\n",
              "      <td>https://habrahabr.ru/post/18291/</td>\n",
              "      <td>https://geektimes.ru/post/18294/</td>\n",
              "    </tr>\n",
              "    <tr>\n",
              "      <th>domain</th>\n",
              "      <td>habrahabr.ru</td>\n",
              "      <td>habrahabr.ru</td>\n",
              "      <td>habrahabr.ru</td>\n",
              "      <td>habrahabr.ru</td>\n",
              "      <td>geektimes.ru</td>\n",
              "    </tr>\n",
              "    <tr>\n",
              "      <th>post_id</th>\n",
              "      <td>18284</td>\n",
              "      <td>18285</td>\n",
              "      <td>18286</td>\n",
              "      <td>18291</td>\n",
              "      <td>18294</td>\n",
              "    </tr>\n",
              "    <tr>\n",
              "      <th>published</th>\n",
              "      <td>2008-01-01 18:19:00</td>\n",
              "      <td>2008-01-01 18:30:00</td>\n",
              "      <td>2008-01-01 18:34:00</td>\n",
              "      <td>2008-01-02 01:32:00</td>\n",
              "      <td>2008-01-02 14:34:00</td>\n",
              "    </tr>\n",
              "    <tr>\n",
              "      <th>author</th>\n",
              "      <td>@Tapac</td>\n",
              "      <td>@DezmASter</td>\n",
              "      <td>@DezmASter</td>\n",
              "      <td>@Taoorus</td>\n",
              "      <td>@dennydo</td>\n",
              "    </tr>\n",
              "    <tr>\n",
              "      <th>flow</th>\n",
              "      <td>develop</td>\n",
              "      <td>design</td>\n",
              "      <td>design</td>\n",
              "      <td>design</td>\n",
              "      <td>NaN</td>\n",
              "    </tr>\n",
              "    <tr>\n",
              "      <th>polling</th>\n",
              "      <td>False</td>\n",
              "      <td>False</td>\n",
              "      <td>False</td>\n",
              "      <td>False</td>\n",
              "      <td>False</td>\n",
              "    </tr>\n",
              "    <tr>\n",
              "      <th>content_len</th>\n",
              "      <td>4305</td>\n",
              "      <td>7344</td>\n",
              "      <td>8431</td>\n",
              "      <td>5662</td>\n",
              "      <td>3706</td>\n",
              "    </tr>\n",
              "    <tr>\n",
              "      <th>title</th>\n",
              "      <td>Новогодний подарок блоггерам — WordPress 2.3.2</td>\n",
              "      <td>Сумасшедшие яйца, или сервис для отслеживания ...</td>\n",
              "      <td>Сумасшедшие яйца, или сервис для отслеживания ...</td>\n",
              "      <td>Сглаживание шрифтов, и субпиксельная отрисовка</td>\n",
              "      <td>Почему мне не нравится iPhone</td>\n",
              "    </tr>\n",
              "    <tr>\n",
              "      <th>comments</th>\n",
              "      <td>0</td>\n",
              "      <td>1</td>\n",
              "      <td>47</td>\n",
              "      <td>102</td>\n",
              "      <td>230</td>\n",
              "    </tr>\n",
              "    <tr>\n",
              "      <th>favs</th>\n",
              "      <td>0</td>\n",
              "      <td>1</td>\n",
              "      <td>72</td>\n",
              "      <td>36</td>\n",
              "      <td>6</td>\n",
              "    </tr>\n",
              "    <tr>\n",
              "      <th>views</th>\n",
              "      <td>236</td>\n",
              "      <td>353</td>\n",
              "      <td>1200</td>\n",
              "      <td>5700</td>\n",
              "      <td>1400</td>\n",
              "    </tr>\n",
              "    <tr>\n",
              "      <th>votes_plus</th>\n",
              "      <td>0</td>\n",
              "      <td>1</td>\n",
              "      <td>45</td>\n",
              "      <td>72</td>\n",
              "      <td>73</td>\n",
              "    </tr>\n",
              "    <tr>\n",
              "      <th>votes_minus</th>\n",
              "      <td>0</td>\n",
              "      <td>0</td>\n",
              "      <td>5</td>\n",
              "      <td>3</td>\n",
              "      <td>15</td>\n",
              "    </tr>\n",
              "  </tbody>\n",
              "</table>\n",
              "</div>"
            ],
            "text/plain": [
              "                                                          0  ...                                 4\n",
              "url                        https://habrahabr.ru/post/18284/  ...  https://geektimes.ru/post/18294/\n",
              "domain                                         habrahabr.ru  ...                      geektimes.ru\n",
              "post_id                                               18284  ...                             18294\n",
              "published                               2008-01-01 18:19:00  ...               2008-01-02 14:34:00\n",
              "author                                               @Tapac  ...                          @dennydo\n",
              "flow                                                develop  ...                               NaN\n",
              "polling                                               False  ...                             False\n",
              "content_len                                            4305  ...                              3706\n",
              "title        Новогодний подарок блоггерам — WordPress 2.3.2  ...     Почему мне не нравится iPhone\n",
              "comments                                                  0  ...                               230\n",
              "favs                                                      0  ...                                 6\n",
              "views                                                   236  ...                              1400\n",
              "votes_plus                                                0  ...                                73\n",
              "votes_minus                                               0  ...                                15\n",
              "\n",
              "[14 rows x 5 columns]"
            ]
          },
          "metadata": {
            "tags": []
          },
          "execution_count": 5
        }
      ]
    },
    {
      "cell_type": "markdown",
      "metadata": {
        "id": "tT0yBZAxO2vW"
      },
      "source": [
        "5. Застосуйте для виводу статистичної інформації функцію\n",
        "DataFrame.describe()"
      ]
    },
    {
      "cell_type": "code",
      "metadata": {
        "id": "jEHwJouitRAY",
        "colab": {
          "base_uri": "https://localhost:8080/",
          "height": 264
        },
        "outputId": "0cedf023-b931-4310-d39a-944f8eb133cb"
      },
      "source": [
        "data.describe().transpose()"
      ],
      "execution_count": null,
      "outputs": [
        {
          "output_type": "execute_result",
          "data": {
            "text/html": [
              "<div>\n",
              "<style scoped>\n",
              "    .dataframe tbody tr th:only-of-type {\n",
              "        vertical-align: middle;\n",
              "    }\n",
              "\n",
              "    .dataframe tbody tr th {\n",
              "        vertical-align: top;\n",
              "    }\n",
              "\n",
              "    .dataframe thead th {\n",
              "        text-align: right;\n",
              "    }\n",
              "</style>\n",
              "<table border=\"1\" class=\"dataframe\">\n",
              "  <thead>\n",
              "    <tr style=\"text-align: right;\">\n",
              "      <th></th>\n",
              "      <th>count</th>\n",
              "      <th>mean</th>\n",
              "      <th>std</th>\n",
              "      <th>min</th>\n",
              "      <th>25%</th>\n",
              "      <th>50%</th>\n",
              "      <th>75%</th>\n",
              "      <th>max</th>\n",
              "    </tr>\n",
              "  </thead>\n",
              "  <tbody>\n",
              "    <tr>\n",
              "      <th>post_id</th>\n",
              "      <td>134137.0</td>\n",
              "      <td>181307.054265</td>\n",
              "      <td>81766.350702</td>\n",
              "      <td>18284.0</td>\n",
              "      <td>115565.0</td>\n",
              "      <td>182666.0</td>\n",
              "      <td>257401.0</td>\n",
              "      <td>314088.0</td>\n",
              "    </tr>\n",
              "    <tr>\n",
              "      <th>content_len</th>\n",
              "      <td>134137.0</td>\n",
              "      <td>7516.929699</td>\n",
              "      <td>8724.771640</td>\n",
              "      <td>1.0</td>\n",
              "      <td>2179.0</td>\n",
              "      <td>4949.0</td>\n",
              "      <td>9858.0</td>\n",
              "      <td>352471.0</td>\n",
              "    </tr>\n",
              "    <tr>\n",
              "      <th>comments</th>\n",
              "      <td>134137.0</td>\n",
              "      <td>39.625994</td>\n",
              "      <td>62.398958</td>\n",
              "      <td>0.0</td>\n",
              "      <td>7.0</td>\n",
              "      <td>19.0</td>\n",
              "      <td>48.0</td>\n",
              "      <td>2266.0</td>\n",
              "    </tr>\n",
              "    <tr>\n",
              "      <th>favs</th>\n",
              "      <td>134137.0</td>\n",
              "      <td>71.999866</td>\n",
              "      <td>145.854135</td>\n",
              "      <td>0.0</td>\n",
              "      <td>8.0</td>\n",
              "      <td>27.0</td>\n",
              "      <td>78.0</td>\n",
              "      <td>8718.0</td>\n",
              "    </tr>\n",
              "    <tr>\n",
              "      <th>views</th>\n",
              "      <td>134137.0</td>\n",
              "      <td>16631.013084</td>\n",
              "      <td>31479.819691</td>\n",
              "      <td>3.0</td>\n",
              "      <td>2100.0</td>\n",
              "      <td>7600.0</td>\n",
              "      <td>18700.0</td>\n",
              "      <td>1730000.0</td>\n",
              "    </tr>\n",
              "    <tr>\n",
              "      <th>votes_plus</th>\n",
              "      <td>133566.0</td>\n",
              "      <td>35.536888</td>\n",
              "      <td>42.461073</td>\n",
              "      <td>0.0</td>\n",
              "      <td>11.0</td>\n",
              "      <td>22.0</td>\n",
              "      <td>45.0</td>\n",
              "      <td>1466.0</td>\n",
              "    </tr>\n",
              "    <tr>\n",
              "      <th>votes_minus</th>\n",
              "      <td>133566.0</td>\n",
              "      <td>8.050035</td>\n",
              "      <td>11.398282</td>\n",
              "      <td>0.0</td>\n",
              "      <td>2.0</td>\n",
              "      <td>5.0</td>\n",
              "      <td>10.0</td>\n",
              "      <td>445.0</td>\n",
              "    </tr>\n",
              "  </tbody>\n",
              "</table>\n",
              "</div>"
            ],
            "text/plain": [
              "                count           mean  ...       75%        max\n",
              "post_id      134137.0  181307.054265  ...  257401.0   314088.0\n",
              "content_len  134137.0    7516.929699  ...    9858.0   352471.0\n",
              "comments     134137.0      39.625994  ...      48.0     2266.0\n",
              "favs         134137.0      71.999866  ...      78.0     8718.0\n",
              "views        134137.0   16631.013084  ...   18700.0  1730000.0\n",
              "votes_plus   133566.0      35.536888  ...      45.0     1466.0\n",
              "votes_minus  133566.0       8.050035  ...      10.0      445.0\n",
              "\n",
              "[7 rows x 8 columns]"
            ]
          },
          "metadata": {
            "tags": []
          },
          "execution_count": 6
        }
      ]
    },
    {
      "cell_type": "markdown",
      "metadata": {
        "id": "qocjAE4rO-It"
      },
      "source": [
        "6. Стовпець published (час публікації) містить рядки. Щоб ми могли працювати\n",
        "з цими даними як з датою/ часом публікації, перетворіть їх до типу datetime:"
      ]
    },
    {
      "cell_type": "code",
      "metadata": {
        "id": "GAPY_4W1u4uy",
        "colab": {
          "base_uri": "https://localhost:8080/",
          "height": 121
        },
        "outputId": "2855c2d1-cbfa-4e3b-b4f7-64bf56bafbce"
      },
      "source": [
        "data['published'] = pd.to_datetime(data['published'], format='%Y/%m/%d %H:%M:%S')"
      ],
      "execution_count": null,
      "outputs": [
        {
          "output_type": "stream",
          "text": [
            "/usr/local/lib/python3.6/dist-packages/ipykernel_launcher.py:1: SettingWithCopyWarning: \n",
            "A value is trying to be set on a copy of a slice from a DataFrame.\n",
            "Try using .loc[row_indexer,col_indexer] = value instead\n",
            "\n",
            "See the caveats in the documentation: https://pandas.pydata.org/pandas-docs/stable/user_guide/indexing.html#returning-a-view-versus-a-copy\n",
            "  \"\"\"Entry point for launching an IPython kernel.\n"
          ],
          "name": "stderr"
        }
      ]
    },
    {
      "cell_type": "markdown",
      "metadata": {
        "id": "MJ6jtrACQGn2"
      },
      "source": [
        "7. Створіть кілька стовпців на основі даних про час публікації:"
      ]
    },
    {
      "cell_type": "code",
      "metadata": {
        "id": "TF8sS_mrxTg3",
        "colab": {
          "base_uri": "https://localhost:8080/",
          "height": 826
        },
        "outputId": "3c3a94cc-de92-4f31-92b1-6feed806b4d7"
      },
      "source": [
        "data['year'] = [d.year for d in data.published] \n",
        "data['month'] = [d.month for d in data.published] \n",
        "data['dayofweek'] = [d.isoweekday() for d in data.published] \n",
        "data['hour'] = [d.hour for d in data.published]\n",
        "\n",
        "data.head().transpose()"
      ],
      "execution_count": null,
      "outputs": [
        {
          "output_type": "stream",
          "text": [
            "/usr/local/lib/python3.6/dist-packages/ipykernel_launcher.py:1: SettingWithCopyWarning: \n",
            "A value is trying to be set on a copy of a slice from a DataFrame.\n",
            "Try using .loc[row_indexer,col_indexer] = value instead\n",
            "\n",
            "See the caveats in the documentation: https://pandas.pydata.org/pandas-docs/stable/user_guide/indexing.html#returning-a-view-versus-a-copy\n",
            "  \"\"\"Entry point for launching an IPython kernel.\n",
            "/usr/local/lib/python3.6/dist-packages/ipykernel_launcher.py:2: SettingWithCopyWarning: \n",
            "A value is trying to be set on a copy of a slice from a DataFrame.\n",
            "Try using .loc[row_indexer,col_indexer] = value instead\n",
            "\n",
            "See the caveats in the documentation: https://pandas.pydata.org/pandas-docs/stable/user_guide/indexing.html#returning-a-view-versus-a-copy\n",
            "  \n"
          ],
          "name": "stderr"
        },
        {
          "output_type": "execute_result",
          "data": {
            "text/html": [
              "<div>\n",
              "<style scoped>\n",
              "    .dataframe tbody tr th:only-of-type {\n",
              "        vertical-align: middle;\n",
              "    }\n",
              "\n",
              "    .dataframe tbody tr th {\n",
              "        vertical-align: top;\n",
              "    }\n",
              "\n",
              "    .dataframe thead th {\n",
              "        text-align: right;\n",
              "    }\n",
              "</style>\n",
              "<table border=\"1\" class=\"dataframe\">\n",
              "  <thead>\n",
              "    <tr style=\"text-align: right;\">\n",
              "      <th></th>\n",
              "      <th>0</th>\n",
              "      <th>1</th>\n",
              "      <th>2</th>\n",
              "      <th>3</th>\n",
              "      <th>4</th>\n",
              "    </tr>\n",
              "  </thead>\n",
              "  <tbody>\n",
              "    <tr>\n",
              "      <th>url</th>\n",
              "      <td>https://habrahabr.ru/post/18284/</td>\n",
              "      <td>https://habrahabr.ru/post/18285/</td>\n",
              "      <td>https://habrahabr.ru/post/18286/</td>\n",
              "      <td>https://habrahabr.ru/post/18291/</td>\n",
              "      <td>https://geektimes.ru/post/18294/</td>\n",
              "    </tr>\n",
              "    <tr>\n",
              "      <th>domain</th>\n",
              "      <td>habrahabr.ru</td>\n",
              "      <td>habrahabr.ru</td>\n",
              "      <td>habrahabr.ru</td>\n",
              "      <td>habrahabr.ru</td>\n",
              "      <td>geektimes.ru</td>\n",
              "    </tr>\n",
              "    <tr>\n",
              "      <th>post_id</th>\n",
              "      <td>18284</td>\n",
              "      <td>18285</td>\n",
              "      <td>18286</td>\n",
              "      <td>18291</td>\n",
              "      <td>18294</td>\n",
              "    </tr>\n",
              "    <tr>\n",
              "      <th>published</th>\n",
              "      <td>2008-01-01 18:19:00</td>\n",
              "      <td>2008-01-01 18:30:00</td>\n",
              "      <td>2008-01-01 18:34:00</td>\n",
              "      <td>2008-01-02 01:32:00</td>\n",
              "      <td>2008-01-02 14:34:00</td>\n",
              "    </tr>\n",
              "    <tr>\n",
              "      <th>author</th>\n",
              "      <td>@Tapac</td>\n",
              "      <td>@DezmASter</td>\n",
              "      <td>@DezmASter</td>\n",
              "      <td>@Taoorus</td>\n",
              "      <td>@dennydo</td>\n",
              "    </tr>\n",
              "    <tr>\n",
              "      <th>flow</th>\n",
              "      <td>develop</td>\n",
              "      <td>design</td>\n",
              "      <td>design</td>\n",
              "      <td>design</td>\n",
              "      <td>NaN</td>\n",
              "    </tr>\n",
              "    <tr>\n",
              "      <th>polling</th>\n",
              "      <td>False</td>\n",
              "      <td>False</td>\n",
              "      <td>False</td>\n",
              "      <td>False</td>\n",
              "      <td>False</td>\n",
              "    </tr>\n",
              "    <tr>\n",
              "      <th>content_len</th>\n",
              "      <td>4305</td>\n",
              "      <td>7344</td>\n",
              "      <td>8431</td>\n",
              "      <td>5662</td>\n",
              "      <td>3706</td>\n",
              "    </tr>\n",
              "    <tr>\n",
              "      <th>title</th>\n",
              "      <td>Новогодний подарок блоггерам — WordPress 2.3.2</td>\n",
              "      <td>Сумасшедшие яйца, или сервис для отслеживания ...</td>\n",
              "      <td>Сумасшедшие яйца, или сервис для отслеживания ...</td>\n",
              "      <td>Сглаживание шрифтов, и субпиксельная отрисовка</td>\n",
              "      <td>Почему мне не нравится iPhone</td>\n",
              "    </tr>\n",
              "    <tr>\n",
              "      <th>comments</th>\n",
              "      <td>0</td>\n",
              "      <td>1</td>\n",
              "      <td>47</td>\n",
              "      <td>102</td>\n",
              "      <td>230</td>\n",
              "    </tr>\n",
              "    <tr>\n",
              "      <th>favs</th>\n",
              "      <td>0</td>\n",
              "      <td>1</td>\n",
              "      <td>72</td>\n",
              "      <td>36</td>\n",
              "      <td>6</td>\n",
              "    </tr>\n",
              "    <tr>\n",
              "      <th>views</th>\n",
              "      <td>236</td>\n",
              "      <td>353</td>\n",
              "      <td>1200</td>\n",
              "      <td>5700</td>\n",
              "      <td>1400</td>\n",
              "    </tr>\n",
              "    <tr>\n",
              "      <th>votes_plus</th>\n",
              "      <td>0</td>\n",
              "      <td>1</td>\n",
              "      <td>45</td>\n",
              "      <td>72</td>\n",
              "      <td>73</td>\n",
              "    </tr>\n",
              "    <tr>\n",
              "      <th>votes_minus</th>\n",
              "      <td>0</td>\n",
              "      <td>0</td>\n",
              "      <td>5</td>\n",
              "      <td>3</td>\n",
              "      <td>15</td>\n",
              "    </tr>\n",
              "    <tr>\n",
              "      <th>year</th>\n",
              "      <td>2008</td>\n",
              "      <td>2008</td>\n",
              "      <td>2008</td>\n",
              "      <td>2008</td>\n",
              "      <td>2008</td>\n",
              "    </tr>\n",
              "    <tr>\n",
              "      <th>month</th>\n",
              "      <td>1</td>\n",
              "      <td>1</td>\n",
              "      <td>1</td>\n",
              "      <td>1</td>\n",
              "      <td>1</td>\n",
              "    </tr>\n",
              "    <tr>\n",
              "      <th>dayofweek</th>\n",
              "      <td>2</td>\n",
              "      <td>2</td>\n",
              "      <td>2</td>\n",
              "      <td>3</td>\n",
              "      <td>3</td>\n",
              "    </tr>\n",
              "    <tr>\n",
              "      <th>hour</th>\n",
              "      <td>18</td>\n",
              "      <td>18</td>\n",
              "      <td>18</td>\n",
              "      <td>1</td>\n",
              "      <td>14</td>\n",
              "    </tr>\n",
              "  </tbody>\n",
              "</table>\n",
              "</div>"
            ],
            "text/plain": [
              "                                                          0  ...                                 4\n",
              "url                        https://habrahabr.ru/post/18284/  ...  https://geektimes.ru/post/18294/\n",
              "domain                                         habrahabr.ru  ...                      geektimes.ru\n",
              "post_id                                               18284  ...                             18294\n",
              "published                               2008-01-01 18:19:00  ...               2008-01-02 14:34:00\n",
              "author                                               @Tapac  ...                          @dennydo\n",
              "flow                                                develop  ...                               NaN\n",
              "polling                                               False  ...                             False\n",
              "content_len                                            4305  ...                              3706\n",
              "title        Новогодний подарок блоггерам — WordPress 2.3.2  ...     Почему мне не нравится iPhone\n",
              "comments                                                  0  ...                               230\n",
              "favs                                                      0  ...                                 6\n",
              "views                                                   236  ...                              1400\n",
              "votes_plus                                                0  ...                                73\n",
              "votes_minus                                               0  ...                                15\n",
              "year                                                   2008  ...                              2008\n",
              "month                                                     1  ...                                 1\n",
              "dayofweek                                                 2  ...                                 3\n",
              "hour                                                     18  ...                                14\n",
              "\n",
              "[18 rows x 5 columns]"
            ]
          },
          "metadata": {
            "tags": []
          },
          "execution_count": 8
        }
      ]
    },
    {
      "cell_type": "markdown",
      "metadata": {
        "id": "LXdb90AsNbP3"
      },
      "source": [
        "**Завдання:**"
      ]
    },
    {
      "cell_type": "markdown",
      "metadata": {
        "id": "ZSfssgVbQhUV"
      },
      "source": [
        "1. В якому місяці (і якого року) було найбільше публікацій?\n",
        "\n",
        "---\n",
        "\n",
        "\n",
        " березень 2016\n",
        "\n",
        "---\n",
        "\n",
        "\n",
        " березень 2015\n",
        "\n",
        "---\n",
        "\n",
        "\n",
        " квітень 2015\n",
        "\n",
        "---\n",
        "\n",
        "\n",
        " квітень 2016"
      ]
    },
    {
      "cell_type": "code",
      "metadata": {
        "id": "4zw-iVb7NZx4",
        "colab": {
          "base_uri": "https://localhost:8080/",
          "height": 414
        },
        "outputId": "ff7b6482-d616-46cc-c960-2c7dbeaf7a4b"
      },
      "source": [
        "find = data[(data['year'] == 2015) | (data['year'] == 2016)][(data['month'] == 3) | (data['month'] == 4)]\n",
        "find.groupby(['year', 'month']).size().plot(kind='bar', rot=45, figsize=(5,5))\n",
        "print(\"березень 2015\")"
      ],
      "execution_count": null,
      "outputs": [
        {
          "output_type": "stream",
          "text": [
            "березень 2015\n"
          ],
          "name": "stdout"
        },
        {
          "output_type": "stream",
          "text": [
            "/usr/local/lib/python3.6/dist-packages/ipykernel_launcher.py:1: UserWarning: Boolean Series key will be reindexed to match DataFrame index.\n",
            "  \"\"\"Entry point for launching an IPython kernel.\n"
          ],
          "name": "stderr"
        },
        {
          "output_type": "display_data",
          "data": {
            "image/png": "[encoded data removed]",
            "text/plain": [
              "<Figure size 360x360 with 1 Axes>"
            ]
          },
          "metadata": {
            "tags": [],
            "needs_background": "light"
          }
        }
      ]
    },
    {
      "cell_type": "markdown",
      "metadata": {
        "id": "TaeAmpi1Rc8s"
      },
      "source": [
        "2. Проаналізуйте публікації в місяці з попереднього питання. Виберіть один або кілька варіантів:\n",
        "\n",
        "---\n",
        "\n",
        "\n",
        "1) Один або кілька днів сильно виділяються із загальної картини\n",
        "\n",
        "---\n",
        "\n",
        "\n",
        "2) На Хабре завжди більше статей, ніж на гіктаймсе\n",
        "\n",
        "---\n",
        "\n",
        "\n",
        "3) По суботах на гіктаймс і на Хабрахабр публікують приблизно однакове\n",
        "число статей"
      ]
    },
    {
      "cell_type": "code",
      "metadata": {
        "id": "XofpwBkfpI5X",
        "colab": {
          "base_uri": "https://localhost:8080/",
          "height": 624
        },
        "outputId": "15f271c5-8cc2-4b63-d4eb-7ad6e49246ec"
      },
      "source": [
        "find2 = data[(data['year'] == 2015) & (data['month'] == 3)]\n",
        "find2.groupby(['dayofweek']).size().plot(kind='bar', rot=45, figsize=(10,10))\n",
        "print('1) Субота та неділя сильно виділяються із загальної картини')"
      ],
      "execution_count": null,
      "outputs": [
        {
          "output_type": "stream",
          "text": [
            "1) Субота та неділя сильно виділяються із загальної картини\n"
          ],
          "name": "stdout"
        },
        {
          "output_type": "display_data",
          "data": {
            "image/png": "[encoded data removed]",
            "text/plain": [
              "<Figure size 720x720 with 1 Axes>"
            ]
          },
          "metadata": {
            "tags": [],
            "needs_background": "light"
          }
        }
      ]
    },
    {
      "cell_type": "code",
      "metadata": {
        "id": "FKXC0_SdpJ1r",
        "colab": {
          "base_uri": "https://localhost:8080/",
          "height": 641
        },
        "outputId": "b09b8b68-9c5f-4e48-92d7-c9a17fd73deb"
      },
      "source": [
        "habr = find2[find2['domain'] == 'habrahabr.ru'].groupby('dayofweek').size().rename('habrahabr.ru')\n",
        "geek = find2[find2['domain'] == 'geektimes.ru'].groupby('dayofweek').size().rename('geektimes.ru')\n",
        "pd.concat([habr, geek], axis=1).plot(figsize=(15,10))\n",
        "print('2) Так')\n",
        "print('3) Так')"
      ],
      "execution_count": null,
      "outputs": [
        {
          "output_type": "stream",
          "text": [
            "2) Так\n",
            "3) Так\n"
          ],
          "name": "stdout"
        },
        {
          "output_type": "display_data",
          "data": {
            "image/png": "[encoded data removed]",
            "text/plain": [
              "<Figure size 1080x720 with 1 Axes>"
            ]
          },
          "metadata": {
            "tags": [],
            "needs_background": "light"
          }
        }
      ]
    },
    {
      "cell_type": "markdown",
      "metadata": {
        "id": "WWGKOfSgYkia"
      },
      "source": [
        "3. Коли найкраще опублікувати статтю?\n",
        "\n",
        "---\n",
        "\n",
        "\n",
        "1) Найбільше переглядів набирають статті, опубліковані о 12 годині дня\n",
        "\n",
        "---\n",
        "\n",
        "\n",
        "2) У опублікованих в 10 ранку постів найбільше коментарів\n",
        "\n",
        "---\n",
        "\n",
        "\n",
        "3) Найбільше переглядів набирають статті, опубліковані в 6 годині ранку\n",
        "\n",
        "---\n",
        "\n",
        "\n",
        "4) Максимальна кількість коментарів на гіктаймсе набрала стаття,\n",
        "опублікована о 9 годині вечора\n",
        "\n",
        "---\n",
        "\n",
        "\n",
        "5) На Хабре денні статті коментують частіше, ніж вечірні."
      ]
    },
    {
      "cell_type": "code",
      "metadata": {
        "id": "tYy8Nv5epJuQ",
        "colab": {
          "base_uri": "https://localhost:8080/",
          "height": 657
        },
        "outputId": "f8f21f6d-5772-41ea-879e-355a8c9b90fe"
      },
      "source": [
        "data.groupby('hour')['views'].sum().plot(kind='bar', rot=45, figsize=(15,10))\n",
        "print('1) Так')\n",
        "print('3) Так')"
      ],
      "execution_count": null,
      "outputs": [
        {
          "output_type": "stream",
          "text": [
            "1) Так\n",
            "3) Так\n"
          ],
          "name": "stdout"
        },
        {
          "output_type": "display_data",
          "data": {
            "image/png": "[encoded data removed]",
            "text/plain": [
              "<Figure size 1080x720 with 1 Axes>"
            ]
          },
          "metadata": {
            "tags": [],
            "needs_background": "light"
          }
        }
      ]
    },
    {
      "cell_type": "code",
      "metadata": {
        "id": "6aLNKNJtZ0_4",
        "colab": {
          "base_uri": "https://localhost:8080/",
          "height": 629
        },
        "outputId": "c5f00252-7d9d-4802-977a-c0b5a77881ca"
      },
      "source": [
        "data.groupby('hour')['comments'].sum().plot(kind='bar', rot=45, figsize=(15,10))\n",
        "print('2) Ні')"
      ],
      "execution_count": null,
      "outputs": [
        {
          "output_type": "stream",
          "text": [
            "2) Ні\n"
          ],
          "name": "stdout"
        },
        {
          "output_type": "display_data",
          "data": {
            "image/png": "[encoded data removed]",
            "text/plain": [
              "<Figure size 1080x720 with 1 Axes>"
            ]
          },
          "metadata": {
            "tags": [],
            "needs_background": "light"
          }
        }
      ]
    },
    {
      "cell_type": "code",
      "metadata": {
        "id": "oP5yCCGradhB",
        "colab": {
          "base_uri": "https://localhost:8080/",
          "height": 629
        },
        "outputId": "9287251d-d5c2-43e7-f6f6-b86095643fb1"
      },
      "source": [
        "data[data['domain'] == 'geektimes.ru'].groupby('hour')['comments'].max().plot(kind='bar', rot=45, figsize=(15,10))\n",
        "#4) Максимальна кількість коментарів на гіктаймсе набрала стаття, опублікована о 9 годині вечора\n",
        "print('4) Ні')"
      ],
      "execution_count": null,
      "outputs": [
        {
          "output_type": "stream",
          "text": [
            "4) Ні\n"
          ],
          "name": "stdout"
        },
        {
          "output_type": "display_data",
          "data": {
            "image/png": "[encoded data removed]",
            "text/plain": [
              "<Figure size 1080x720 with 1 Axes>"
            ]
          },
          "metadata": {
            "tags": [],
            "needs_background": "light"
          }
        }
      ]
    },
    {
      "cell_type": "code",
      "metadata": {
        "id": "hxO516byadcr",
        "colab": {
          "base_uri": "https://localhost:8080/",
          "height": 629
        },
        "outputId": "572e6d1a-2558-48fe-95a2-30a5b34092f3"
      },
      "source": [
        "data[data['domain'] == 'habrahabr.ru'].groupby('hour')['comments'].sum().plot(kind='bar', rot=45, figsize=(15,10))\n",
        "print('5) Так')"
      ],
      "execution_count": null,
      "outputs": [
        {
          "output_type": "stream",
          "text": [
            "5) Так\n"
          ],
          "name": "stdout"
        },
        {
          "output_type": "display_data",
          "data": {
            "image/png": "[encoded data removed]",
            "text/plain": [
              "<Figure size 1080x720 with 1 Axes>"
            ]
          },
          "metadata": {
            "tags": [],
            "needs_background": "light"
          }
        }
      ]
    },
    {
      "cell_type": "markdown",
      "metadata": {
        "id": "LRZ7YS5Abil2"
      },
      "source": [
        "4. Кого з топ-20 авторів найчастіше мінусують?\n",
        "\n",
        "---\n",
        "\n",
        "\n",
        "@Mordatyj\n",
        "\n",
        "---\n",
        "\n",
        "\n",
        "@Mithgol\n",
        "\n",
        "---\n",
        "\n",
        "\n",
        "@alizar\n",
        "\n",
        "---\n",
        "\n",
        "\n",
        "@ilya42"
      ]
    },
    {
      "cell_type": "code",
      "metadata": {
        "id": "uyVt-lPpadXm",
        "colab": {
          "base_uri": "https://localhost:8080/",
          "height": 658
        },
        "outputId": "fdc85af7-5d5e-4c26-b874-adcaa06db20f"
      },
      "source": [
        "auth = ['@Mordatyj', '@Mithgol', '@alizar', '@ilya42']\n",
        "win = data[data['author'].isin(auth)]\n",
        "win.groupby('author')['votes_minus'].sum().plot(kind='bar', rot=45, figsize=(15,10))\n",
        "print('4. @alizar')"
      ],
      "execution_count": null,
      "outputs": [
        {
          "output_type": "stream",
          "text": [
            "4. @alizar\n"
          ],
          "name": "stdout"
        },
        {
          "output_type": "display_data",
          "data": {
            "image/png": "[encoded data removed]",
            "text/plain": [
              "<Figure size 1080x720 with 1 Axes>"
            ]
          },
          "metadata": {
            "tags": [],
            "needs_background": "light"
          }
        }
      ]
    },
    {
      "cell_type": "markdown",
      "metadata": {
        "id": "TXMmJJ7HcRLj"
      },
      "source": [
        "5. Порівняйте суботи і понеділки\n",
        "\n",
        "---\n",
        "\n",
        "\n",
        "Чи правда, що по суботах автори пишуть в основному вдень, а по понеділках - в\n",
        "основному ввечері?"
      ]
    },
    {
      "cell_type": "code",
      "metadata": {
        "id": "s-Qb9N3rcZAU",
        "colab": {
          "base_uri": "https://localhost:8080/",
          "height": 624
        },
        "outputId": "a420a805-4183-46d9-d86d-be8c3d27d849"
      },
      "source": [
        "saturday = data[data['dayofweek'] == 6].groupby('hour').size().rename('saturday')\n",
        "monday = data[data['dayofweek'] == 1].groupby('hour').size().rename('monday')\n",
        "\n",
        "pd.concat([saturday, monday], axis=1).plot(figsize=(15,10))\n",
        "print('5. Ні')"
      ],
      "execution_count": null,
      "outputs": [
        {
          "output_type": "stream",
          "text": [
            "5. Ні\n"
          ],
          "name": "stdout"
        },
        {
          "output_type": "display_data",
          "data": {
            "image/png": "[encoded data removed]",
            "text/plain": [
              "<Figure size 1080x720 with 1 Axes>"
            ]
          },
          "metadata": {
            "tags": [],
            "needs_background": "light"
          }
        }
      ]
    }
  ]
}